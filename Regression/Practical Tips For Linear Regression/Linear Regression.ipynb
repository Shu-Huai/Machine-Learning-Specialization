{
 "cells": [
  {
   "metadata": {},
   "cell_type": "markdown",
   "source": [
    "# 实践实验室：线性回归\n",
    "\n",
    "欢迎来到您的第一个实践实验室！在本实验中，您将使用一个变量实施线性回归来预测特许经营餐厅的利润。\n",
    "\n",
    "# 大纲\n",
    "- [1 包]()\n",
    "- [2 单变量线性回归]()\n",
    "   - [2.1 问题陈述]()\n",
    "   - [2.2 数据集]()\n",
    "   - [2.3 线性回归复习]()\n",
    "   - [2.4 计算成本]()\n",
    "     - [练习1]()\n",
    "   - [2.5 梯度下降]()\n",
    "     - [练习2]()\n",
    "   - [2.6 使用批量梯度下降学习参数]()"
   ],
   "id": "4e38c8bcc383266e"
  },
  {
   "metadata": {},
   "cell_type": "markdown",
   "source": [
    "## 1 套餐\n",
    "\n",
    "首先，让我们运行下面的单元来导入您在此作业期间需要的所有包。\n",
    "\n",
    "- [numpy](https://numpy.org/)是在Python中处理矩阵的基本包。\n",
    "- [matplotlib](https://matplotlib.org)是一个著名的Python绘图库。\n",
    "- `utils.py`包含此任务的辅助函数。您不需要修改此文件中的代码。"
   ],
   "id": "b8f5cae90393bbf2"
  },
  {
   "metadata": {
    "ExecuteTime": {
     "end_time": "2024-05-13T10:06:24.557577Z",
     "start_time": "2024-05-13T10:06:24.547573Z"
    }
   },
   "cell_type": "code",
   "source": [
    "import matplotlib.pyplot as plt\n",
    "from utils import *\n",
    "import copy\n",
    "import math\n",
    "%matplotlib inline"
   ],
   "id": "b942fb77199aa2e",
   "execution_count": 21,
   "outputs": []
  },
  {
   "metadata": {},
   "cell_type": "markdown",
   "source": [
    "## 2 问题陈述\n",
    "\n",
    "假设您是一家特许经营餐厅的首席执行官，正在考虑在不同的城市开设新店。\n",
    "\n",
    "- 您想将业务扩展到可以为您的餐厅带来更高利润的城市。\n",
    "- 该连锁店已经在各个城市设有餐厅，并且您拥有这些城市的利润和人口数据。\n",
    "- 您还拥有有关新餐厅候选城市的数据。\n",
    "    - 对于这些城市，您有城市人口。\n",
    "    \n",
    "您能否使用这些数据来帮助您确定哪些城市可能为您的企业带来更高的利润？\n",
    "\n",
    "## 3 数据集\n",
    "\n",
    "您将首先加载此任务的数据集。\n",
    "\n",
    "- 下面显示的`load_data()`函数将数据加载到变量`x_train`和`y_train`中\n",
    "   - `x_train`是一个城市的人口\n",
    "   - `y_train`是该城市一家餐馆的利润。 利润为负值表示亏损。\n",
    "   - `x_train`和`y_train`都是NumPy数组。"
   ],
   "id": "7f9e1cf6d0ac563d"
  },
  {
   "metadata": {
    "ExecuteTime": {
     "end_time": "2024-05-13T10:06:24.588591Z",
     "start_time": "2024-05-13T10:06:24.576091Z"
    }
   },
   "cell_type": "code",
   "source": "x_train, y_train = load_data()",
   "id": "293dd7640ca2a3e5",
   "execution_count": 22,
   "outputs": []
  },
  {
   "metadata": {},
   "cell_type": "markdown",
   "source": [
    "#### 查看变量\n",
    "\n",
    "在开始任何任务之前，更熟悉您的数据集很有用。\n",
    "\n",
    "- 一个好的起点是打印出每个变量并查看它包含的内容。\n",
    "\n",
    "下面的代码打印变量`x_train`和变量的类型。"
   ],
   "id": "b0200ec032571d75"
  },
  {
   "metadata": {
    "ExecuteTime": {
     "end_time": "2024-05-13T10:06:24.604097Z",
     "start_time": "2024-05-13T10:06:24.590091Z"
    }
   },
   "cell_type": "code",
   "source": [
    "print(\"Type of x_train:\", type(x_train))\n",
    "print(\"First five elements of x_train are:\\n\", x_train[:5])"
   ],
   "id": "d58ee08d37b056a8",
   "execution_count": 23,
   "outputs": []
  },
  {
   "metadata": {},
   "cell_type": "markdown",
   "source": [
    "`x_train`是一个NumPy数组，其中包含全部大于零的十进制值。\n",
    "\n",
    "- 这些值代表城市人口乘以10,000\n",
    "- 例如，6.1101表示该城市的人口为61,101\n",
    "  \n",
    "现在，让我们打印`y_train`"
   ],
   "id": "bdd258b8793c9afa"
  },
  {
   "metadata": {
    "ExecuteTime": {
     "end_time": "2024-05-13T10:06:24.619711Z",
     "start_time": "2024-05-13T10:06:24.605097Z"
    }
   },
   "cell_type": "code",
   "source": [
    "print(\"Type of y_train:\", type(y_train))\n",
    "print(\"First five elements of y_train are:\\n\", y_train[:5])"
   ],
   "id": "87c7eaf8547540",
   "execution_count": 24,
   "outputs": []
  },
  {
   "metadata": {},
   "cell_type": "markdown",
   "source": [
    "类似地，`y_train`是一个NumPy数组，具有十进制值，有些是负值，有些是正值。\n",
    "\n",
    "- 这些代表您的餐厅在每个城市的平均每月利润，单位为10,000美元。\n",
    "   - 例如，17.592 代表该城市的平均月利润为175,920美元。\n",
    "   - -2.6807代表该城市的平均每月损失26,807美元。"
   ],
   "id": "543293497082215d"
  },
  {
   "metadata": {},
   "cell_type": "markdown",
   "source": [
    "#### 检查变量的维度\n",
    "\n",
    "熟悉数据的另一个有用方法是查看其维度。\n",
    "\n",
    "请打印`x_train`和`y_train`的形状，并查看数据集中有多少个训练示例。"
   ],
   "id": "e1565333798380cc"
  },
  {
   "metadata": {
    "ExecuteTime": {
     "end_time": "2024-05-13T10:06:24.635110Z",
     "start_time": "2024-05-13T10:06:24.621103Z"
    }
   },
   "cell_type": "code",
   "source": [
    "print('The shape of x_train is:', x_train.shape)\n",
    "print('The shape of y_train is: ', y_train.shape)\n",
    "print('Number of training examples (m):', len(x_train))"
   ],
   "id": "9d492d02dc71a39",
   "execution_count": 25,
   "outputs": []
  },
  {
   "metadata": {},
   "cell_type": "markdown",
   "source": "城市人口数组有97个数据点，月平均利润也有97个数据点。这些是NumPy一维数组。",
   "id": "726e003524eac37"
  },
  {
   "metadata": {},
   "cell_type": "markdown",
   "source": [
    "#### 可视化您的数据\n",
    "\n",
    "通过可视化数据来理解数据通常很有用。\n",
    "\n",
    "- 对于此数据集，您可以使用散点图来可视化数据，因为它只有两个要绘制的属性（利润和人口）。\n",
    "- 现实生活中你会遇到的许多其他问题都有两个以上的属性（例如人口、家庭平均收入、月利润、月销售额）。当你有两个以上的属性时，你仍然可以使用散点图来查看 每对属性之间的关系。"
   ],
   "id": "b8f0da0516b13259"
  },
  {
   "metadata": {
    "ExecuteTime": {
     "end_time": "2024-05-13T10:06:24.712648Z",
     "start_time": "2024-05-13T10:06:24.636111Z"
    }
   },
   "cell_type": "code",
   "source": [
    "plt.scatter(x_train, y_train, marker='x', c='r')\n",
    "plt.title(\"Profits vs. Population per city\")\n",
    "plt.ylabel('Profit in $10,000')\n",
    "plt.xlabel('Population of City in 10,000s')\n",
    "plt.show()"
   ],
   "id": "c6a935cd5def76ba",
   "execution_count": 26,
   "outputs": []
  },
  {
   "metadata": {},
   "cell_type": "markdown",
   "source": [
    "您的目标是构建一个线性回归模型来拟合这些数据。\n",
    "\n",
    "- 通过此模型，您可以输入一个新城市的人口，并让该模型估计您的餐厅在该城市的每月潜在利润。"
   ],
   "id": "72edb5ec3aee434b"
  },
  {
   "metadata": {},
   "cell_type": "markdown",
   "source": [
    "## 4 线性回归复习\n",
    "\n",
    "在此练习实验室中，您将把线性回归参数$(w,b)$拟合到您的数据集。\n",
    "\n",
    "- 线性回归的模型函数，这是一个从`x`（城市人口）映射到`y`（您的餐厅在该城市的月利润）的函数，表示为\n",
    "  $$f_{w,b}(x) = wx + b$$\n",
    "- 要训练线性回归模型，您需要找到适合您的数据集的最佳$(w,b)$参数。\n",
    "    - 要比较$(w,b)$的一个选择比另一个选择更好或更差，您可以使用成本函数$J(w,b)$对其进行评估\n",
    "        - $J$是$(w,b)$的函数。也就是说，成本$J(w,b)$的值取决于$(w,b)$的值。\n",
    "    - 选择最适合您的数据的$(w,b)$是成本$J(w,b)$最小的那个。\n",
    "- 要找到获得最小可能成本$J(w,b)$的值$(w,b)$，您可以使用称为**梯度下降**的方法。\n",
    "    - 随着梯度下降的每一步，您的参数$(w,b)$更接近实现最低成本$J(w,b)$的最佳值。\n",
    "- 经过训练的线性回归模型可以采用输入特征$x$（城市人口）并输出预测$f_{w,b}(x)$（该城市餐厅的预测月利润）。"
   ],
   "id": "cb212558a571f1a1"
  },
  {
   "metadata": {},
   "cell_type": "markdown",
   "source": [
    "## 5 计算成本\n",
    "\n",
    "梯度下降涉及重复步骤来调整参数$(w,b)$的值，以逐渐获得越来越小的成本$J(w,b)$。\n",
    "\n",
    "- 在梯度下降的每一步，通过计算$(w,b)$更新时的成本$J(w,b)$来监控进度将很有帮助。\n",
    "- 在本节中，您将实现一个函数来计算$J(w,b)$，以便您可以检查梯度下降实现的进度。\n",
    "\n",
    "#### 成本函数\n",
    "\n",
    "您可能还记得讲座中的内容，对于一个变量，线性回归的成本函数$J(w,b)$定义为\n",
    "\n",
    "$$J(w,b)=\\frac{1}{2m}\\sum\\limits_{i=0}^{m-1}(f_{w,b}(x^{(i)})-y^{(i)})^2$$\n",
    "\n",
    "- 您可以将$f_{w,b}(x^{(i)})$视为模型对餐厅利润的预测，而不是$y^{(i)}$，后者是记录在数据中的餐厅实际利润。\n",
    "- $m$是数据集中训练样本的数量\n",
    "\n",
    "#### 模型预测\n",
    "\n",
    "- 对于一个变量的线性回归，模型$f_{w,b}$对于示例$x^{(i)}$的预测表示为：\n",
    "  $$f_{w,b}(x^{(i)})=wx^{(i)}+b$$\n",
    "\n",
    "这是直线方程，截距为$b$，斜率为$w$\n",
    "\n",
    "#### 执行\n",
    "\n",
    "请完成下面的`compute_cost()`函数来计算成本$J(w,b)$。"
   ],
   "id": "54722784eacbb648"
  },
  {
   "metadata": {},
   "cell_type": "markdown",
   "source": [
    "### 练习1\n",
    "\n",
    "完成下面的`compute_cost`：\n",
    "\n",
    "* 迭代训练示例，并针对每个示例计算：\n",
    "    * 该示例的模型预测$f_{wb}(x^{(i)})=wx^{(i)}+b$\n",
    "    * 该示例的成本$cost^{(i)}=(f_{wb}-y^{(i)})^2$\n",
    "* 返回所有示例的总成本\n",
    "  $J(\\mathbf{w},b)=\\frac{1}{2m}\\sum\\limits_{i=0}^{m-1}cost^{(i)}$\n",
    "    * 这里，$m$是训练样本的数量，$\\sum$是求和运算符\n",
    "\n",
    "如果您遇到困难，可以查看下面单元格后面提供的提示来帮助您实施。"
   ],
   "id": "b0d20e846eda0af4"
  },
  {
   "metadata": {
    "ExecuteTime": {
     "end_time": "2024-05-13T10:06:24.728155Z",
     "start_time": "2024-05-13T10:06:24.713648Z"
    }
   },
   "cell_type": "code",
   "source": [
    "def compute_cost(x, y, w, b):\n",
    "    m = x.shape[0]\n",
    "    total_cost = 0\n",
    "    for i in range(m):\n",
    "        total_cost += (w * x[i] + b - y[i]) ** 2\n",
    "    total_cost /= 2 * m\n",
    "    return total_cost"
   ],
   "id": "1cb524dbd75a6f16",
   "execution_count": 27,
   "outputs": []
  },
  {
   "metadata": {},
   "cell_type": "markdown",
   "source": "您可以通过运行以下测试代码来检查您的实现是否正确：",
   "id": "258a42dddf8eeba4"
  },
  {
   "metadata": {
    "ExecuteTime": {
     "end_time": "2024-05-13T10:06:24.743655Z",
     "start_time": "2024-05-13T10:06:24.729655Z"
    }
   },
   "cell_type": "code",
   "source": [
    "initial_w = 2\n",
    "initial_b = 1\n",
    "cost = compute_cost(x_train, y_train, initial_w, initial_b)\n",
    "print(type(cost))\n",
    "print(f'Cost at initial w (zeros): {cost:.3f}')\n",
    "from public_tests import *\n",
    "\n",
    "compute_cost_test(compute_cost)"
   ],
   "id": "2a578e7ca01efdaa",
   "execution_count": 28,
   "outputs": []
  },
  {
   "metadata": {},
   "cell_type": "markdown",
   "source": [
    "**预期输出**：\n",
    "\n",
    "<table>\n",
    "  <tr>\n",
    "    <td> <b>Cost at initial w (zeros):<b> 75.203 </td> \n",
    "  </tr>\n",
    "</table>"
   ],
   "id": "b1f400749957e9b6"
  },
  {
   "metadata": {},
   "cell_type": "markdown",
   "source": [
    "## 6 梯度下降\n",
    "\n",
    "在本节中，您将为线性回归的参数$w、b$实现梯度。"
   ],
   "id": "3fa89692677e1cbd"
  },
  {
   "metadata": {},
   "cell_type": "markdown",
   "source": [
    "正如讲座视频中所述，梯度下降算法为：\n",
    "\n",
    "重复直到收敛：\n",
    "\n",
    "$$\n",
    "w=w-\\alpha\\frac{\\partial J(w,b)}{\\partial w}\\tag{1}\n",
    "$$\n",
    "\n",
    "$$\n",
    "b=b-\\alpha\\frac{\\partial J(w,b)}{\\partial b}\n",
    "$$\n",
    "\n",
    "其中，参数$w、b$同时更新，并且其中\n",
    "\n",
    "$$\n",
    "\\begin{align}\n",
    "\\frac{\\partial J(w,b)}{\\partial b}  &= \\frac{1}{m} \\sum\\limits_{i = 0}^{m-1} (f_{w,b}(x^{(i)}) - y^{(i)}) \\tag{2}\\\\\n",
    "\\frac{\\partial J(w,b)}{\\partial w}  &= \\frac{1}{m} \\sum\\limits_{i = 0}^{m-1} (f_{w,b}(x^{(i)}) - y^{(i)})x^{(i)} \\tag{3}\\\\\n",
    "\\end{align}\n",
    "$$\n",
    "\n",
    "* m是数据集中训练样本的数量\n",
    "* $f_{w,b}(x^{(i)})$是模型的预测，而$y^{(i)}$是目标值\n",
    "\n",
    "您将实现一个名为`compute_gradient`的函数，该函数计算$\\frac{\\partial J(w)}{\\partial w}$、$\\frac{\\partial J(w)}{\\partial b}$    "
   ],
   "id": "b2e3bb1b50c632d8"
  },
  {
   "metadata": {},
   "cell_type": "markdown",
   "source": [
    "### 练习2\n",
    "\n",
    "请完成`compute_gradient`函数：\n",
    "\n",
    "* 迭代训练示例，并针对每个示例计算：\n",
    "    * 该示例的模型预测$f_{wb}(x^{(i)})=wx^{(i)}+b$\n",
    "    * 该示例中参数$w$，$b$的梯度\n",
    "      $$\n",
    "      \\frac{\\partial J(w,b)}{\\partial b}^{(i)}=(f_{w,b}(x^{(i)})-y^{(i)})\n",
    "      $$\n",
    "      $$\n",
    "      \\frac{\\partial J(w,b)}{\\partial w}^{(i)}=(f_{w,b}(x^{(i)})-y^{(i)})x^{(i)}\n",
    "      $$\n",
    "* 返回所有示例的总梯度更新    \n",
    "  $$\n",
    "  \\frac{\\partial J(w,b)}{\\partial b}=\\frac{1}{m}\\sum\\limits_{i = 0}^{m-1}\\frac{\\partial J(w,b)}{\\partial b}^{(i)}\n",
    "  $$\n",
    "  $$\n",
    "  \\frac{\\partial J(w,b)}{\\partial w}=\\frac{1}{m}\\sum\\limits_{i = 0}^{m-1}\\frac{\\partial J(w,b)}{\\partial w}^{(i)}\n",
    "  $$\n",
    "  * 这里，$m$是训练样本的数量，$\\sum$是求和运算符\n",
    "\n",
    "如果您遇到困难，可以查看下面单元格后面提供的提示来帮助您实施。"
   ],
   "id": "c88cd4e1429f7ea3"
  },
  {
   "metadata": {
    "ExecuteTime": {
     "end_time": "2024-05-13T10:06:24.759163Z",
     "start_time": "2024-05-13T10:06:24.744655Z"
    }
   },
   "cell_type": "code",
   "source": [
    "def compute_gradient(x, y, w, b):\n",
    "    m = x.shape[0]\n",
    "    dj_dw = 0\n",
    "    dj_db = 0\n",
    "    for i in range(m):\n",
    "        dj_db += w * x[i] + b - y[i]\n",
    "        dj_dw += (w * x[i] + b - y[i]) * x[i]\n",
    "    dj_db /= m\n",
    "    dj_dw /= m\n",
    "    return dj_dw, dj_db"
   ],
   "id": "18d824999e8070fe",
   "execution_count": 29,
   "outputs": []
  },
  {
   "metadata": {},
   "cell_type": "markdown",
   "source": "运行下面的单元格来检查`compute_gradient`函数的实现，其中参数`w`、`b`有两种不同的初始化。",
   "id": "b72ad488ed15ec75"
  },
  {
   "metadata": {
    "ExecuteTime": {
     "end_time": "2024-05-13T10:06:24.774819Z",
     "start_time": "2024-05-13T10:06:24.760672Z"
    }
   },
   "cell_type": "code",
   "source": [
    "initial_w = 0\n",
    "initial_b = 0\n",
    "tmp_dj_dw, tmp_dj_db = compute_gradient(x_train, y_train, initial_w, initial_b)\n",
    "print('Gradient at initial w, b (zeros):', tmp_dj_dw, tmp_dj_db)\n",
    "compute_gradient_test(compute_gradient)"
   ],
   "id": "18596aeeb897932a",
   "execution_count": 30,
   "outputs": []
  },
  {
   "metadata": {},
   "cell_type": "markdown",
   "source": [
    "现在让我们在我们的数据集上运行上面实现的梯度下降算法。\n",
    "\n",
    "**预期输出**：\n",
    "\n",
    "<table>\n",
    "  <tr>\n",
    "    <td> <b>Gradient at initial , b (zeros)<b></td>\n",
    "    <td> -65.32884975 -5.83913505154639</td> \n",
    "  </tr>\n",
    "</table>"
   ],
   "id": "d716e50651cd6c2b"
  },
  {
   "metadata": {
    "ExecuteTime": {
     "end_time": "2024-05-13T10:06:24.790187Z",
     "start_time": "2024-05-13T10:06:24.776181Z"
    }
   },
   "cell_type": "code",
   "source": [
    "test_w = 0.2\n",
    "test_b = 0.2\n",
    "tmp_dj_dw, tmp_dj_db = compute_gradient(x_train, y_train, test_w, test_b)\n",
    "print('Gradient at test w, b:', tmp_dj_dw, tmp_dj_db)"
   ],
   "id": "1edf5aeba5234eb0",
   "execution_count": 31,
   "outputs": []
  },
  {
   "metadata": {},
   "cell_type": "markdown",
   "source": [
    "**预期输出**：\n",
    "<table>\n",
    "  <tr>\n",
    "    <td> <b>Gradient at test w<b></td>\n",
    "    <td> -47.41610118 -4.007175051546391</td> \n",
    "  </tr>\n",
    "</table>"
   ],
   "id": "34b34895f48e8ae1"
  },
  {
   "metadata": {},
   "cell_type": "markdown",
   "source": [
    "### 2.6 使用批量梯度下降学习参数\n",
    "\n",
    "现在，您将通过使用批量梯度下降找到线性回归模型的最佳参数。召回批次是指在一次迭代中运行所有示例。\n",
    "\n",
    "- 您不需要为此部分实现任何内容。只需运行下面的单元格即可。\n",
    "- 验证梯度下降是否正常工作的一个好方法是查看$J(w,b)$的值并检查它是否随着每一步而减少。\n",
    "- 假设您已经实现了梯度并正确计算了成本，并且您有适当的学习率$\\alpha$值，$J(w,b)$应该永远不会增加，并且应该在算法结束时收敛到稳定值。"
   ],
   "id": "3931dc46be91d299"
  },
  {
   "metadata": {
    "ExecuteTime": {
     "end_time": "2024-05-13T10:06:24.805788Z",
     "start_time": "2024-05-13T10:06:24.791187Z"
    }
   },
   "cell_type": "code",
   "source": [
    "def gradient_descent(x, y, w_in, b_in, cost_function, gradient_function, alpha, num_iters):\n",
    "    J_history = []\n",
    "    w_history = []\n",
    "    w = copy.deepcopy(w_in)\n",
    "    b = b_in\n",
    "    for i in range(num_iters):\n",
    "        dj_dw, dj_db = gradient_function(x, y, w, b)\n",
    "        w = w - alpha * dj_dw\n",
    "        b = b - alpha * dj_db\n",
    "        if i < 100000:\n",
    "            cost = cost_function(x, y, w, b)\n",
    "            J_history.append(cost)\n",
    "        if i % math.ceil(num_iters / 10) == 0:\n",
    "            w_history.append(w)\n",
    "            print(f\"Iteration {i:4}: Cost {float(J_history[-1]):8.2f}   \")\n",
    "    return w, b, J_history, w_history"
   ],
   "id": "42d42c2c3d01489d",
   "execution_count": 32,
   "outputs": []
  },
  {
   "metadata": {},
   "cell_type": "markdown",
   "source": "现在让我们运行上面的梯度下降算法来学习数据集的参数。",
   "id": "34315e42d524eac0"
  },
  {
   "metadata": {
    "ExecuteTime": {
     "end_time": "2024-05-13T10:06:24.898796Z",
     "start_time": "2024-05-13T10:06:24.806687Z"
    }
   },
   "cell_type": "code",
   "source": [
    "initial_w = 0.\n",
    "initial_b = 0.\n",
    "iterations = 1500\n",
    "alpha = 0.01\n",
    "w, b, _, _ = gradient_descent(x_train, y_train, initial_w, initial_b, compute_cost, compute_gradient, alpha, iterations)\n",
    "print(\"w,b found by gradient descent:\", w, b)"
   ],
   "id": "6e3ebdf90feeb4ca",
   "execution_count": 33,
   "outputs": []
  },
  {
   "metadata": {},
   "cell_type": "markdown",
   "source": [
    "**预期输出**：\n",
    "<table>\n",
    "  <tr>\n",
    "    <td> <b> w, b found by gradient descent<b></td>\n",
    "    <td> 1.16636235 -3.63029143940436</td> \n",
    "  </tr>\n",
    "</table>"
   ],
   "id": "5de1501660c42085"
  },
  {
   "metadata": {},
   "cell_type": "markdown",
   "source": [
    "我们现在将使用梯度下降的最终参数来绘制线性拟合。\n",
    "\n",
    "回想一下，我们可以获得单个示例$f(x^{(i)})=wx^{(i)}+b$的预测。\n",
    "\n",
    "为了计算整个数据集的预测，我们可以循环遍历所有训练示例并计算每个示例的预测。这如下面的代码块所示。"
   ],
   "id": "58b8299ffca0e64a"
  },
  {
   "metadata": {
    "ExecuteTime": {
     "end_time": "2024-05-13T10:06:24.914304Z",
     "start_time": "2024-05-13T10:06:24.899798Z"
    }
   },
   "cell_type": "code",
   "source": [
    "m = x_train.shape[0]\n",
    "predicted = np.zeros(m)\n",
    "for i in range(m):\n",
    "    predicted[i] = w * x_train[i] + b"
   ],
   "id": "2ff22bc3532d3d64",
   "execution_count": 34,
   "outputs": []
  },
  {
   "metadata": {},
   "cell_type": "markdown",
   "source": "我们现在将绘制预测值以查看线性拟合。",
   "id": "85032dad89f126b"
  },
  {
   "metadata": {
    "ExecuteTime": {
     "end_time": "2024-05-13T10:06:25.007922Z",
     "start_time": "2024-05-13T10:06:24.915804Z"
    }
   },
   "cell_type": "code",
   "source": [
    "plt.plot(x_train, predicted, c=\"b\")\n",
    "plt.scatter(x_train, y_train, marker='x', c='r')\n",
    "plt.title(\"Profits vs. Population per city\")\n",
    "plt.ylabel('Profit in $10,000')\n",
    "plt.xlabel('Population of City in 10,000s')"
   ],
   "id": "6467a7a413ae408e",
   "execution_count": 35,
   "outputs": []
  },
  {
   "metadata": {},
   "cell_type": "markdown",
   "source": [
    "您的最终值$w,b$也可用于预测利润。让我们预测一下35,000人和70,000人的地区的利润是多少。\n",
    "\n",
    "- 该模型将一个城市的数万人口作为输入。\n",
    "- 因此，35,000人可以转化为模型的输入为`np.array([3.5])`\n",
    "- 同样，70,000人可以转换为模型的输入，如`np.array([7.])`"
   ],
   "id": "19e08c6db044d68b"
  },
  {
   "metadata": {
    "ExecuteTime": {
     "end_time": "2024-05-13T10:06:25.023432Z",
     "start_time": "2024-05-13T10:06:25.009924Z"
    }
   },
   "cell_type": "code",
   "source": [
    "predict1 = 3.5 * w + b\n",
    "print('For population = 35,000, we predict a profit of $%.2f' % (predict1 * 10000))\n",
    "predict2 = 7.0 * w + b\n",
    "print('For population = 70,000, we predict a profit of $%.2f' % (predict2 * 10000))"
   ],
   "id": "e97fc52ea85a86fe",
   "execution_count": 36,
   "outputs": []
  },
  {
   "metadata": {},
   "cell_type": "markdown",
   "source": [
    "**预期输出**:\n",
    "\n",
    "<table>\n",
    "    <tr>\n",
    "        <td>\n",
    "            <b>\n",
    "                For population = 35,000, we predict a profit of\n",
    "            </b>\n",
    "        </td>\n",
    "        <td>\n",
    "            $4519.77\n",
    "        </td> \n",
    "    </tr>\n",
    "    <tr>\n",
    "        <td> \n",
    "            <b> \n",
    "                For population = 70,000, we predict a profit of\n",
    "            </b>\n",
    "        </td>\n",
    "        <td>\n",
    "            $45342.45\n",
    "        </td> \n",
    "     </tr>\n",
    "</table>"
   ],
   "id": "9c7803fa0ee2acdc"
  }
 ],
 "metadata": {
  "kernelspec": {
   "display_name": "Python 3",
   "language": "python",
   "name": "python3"
  },
  "language_info": {
   "codemirror_mode": {
    "name": "ipython",
    "version": 2
   },
   "file_extension": ".py",
   "mimetype": "text/x-python",
   "name": "python",
   "nbconvert_exporter": "python",
   "pygments_lexer": "ipython2",
   "version": "2.7.6"
  }
 },
 "nbformat": 4,
 "nbformat_minor": 5
}
