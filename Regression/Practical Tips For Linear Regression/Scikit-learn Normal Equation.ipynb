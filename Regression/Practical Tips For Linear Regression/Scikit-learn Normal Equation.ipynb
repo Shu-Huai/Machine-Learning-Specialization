{
 "cells": [
  {
   "metadata": {},
   "cell_type": "markdown",
   "source": "# 可选实验：使用Scikit-learn进行线性回归",
   "id": "ae2424c7e93da318"
  },
  {
   "metadata": {},
   "cell_type": "markdown",
   "source": "有一个开源的、可商业使用的机器学习工具包，称为[scikit-learn](https://scikit-learn.org/stable/index.html)。该工具包包含您将在本课程中使用的许多算法的实现。",
   "id": "56c28f4752e615e3"
  },
  {
   "metadata": {},
   "cell_type": "markdown",
   "source": [
    "## 目标\n",
    "\n",
    "在本实验室中，您将：\n",
    "\n",
    "- 利用scikit-learn使用基于正规方程的封闭形式解来实现线性回归"
   ],
   "id": "c5a31cde662db4ad"
  },
  {
   "metadata": {},
   "cell_type": "markdown",
   "source": [
    "## 工具\n",
    "\n",
    "您将使用scikit-learn以及matplotlib和NumPy中的函数。"
   ],
   "id": "24c56dba98aa9471"
  },
  {
   "metadata": {
    "ExecuteTime": {
     "end_time": "2024-05-13T07:56:50.077483Z",
     "start_time": "2024-05-13T07:56:47.336507Z"
    }
   },
   "cell_type": "code",
   "source": [
    "import numpy as np\n",
    "\n",
    "np.set_printoptions(precision=2)\n",
    "from sklearn.linear_model import LinearRegression, SGDRegressor\n",
    "from sklearn.preprocessing import StandardScaler\n",
    "from lab_utils_multi import load_house_data\n",
    "import matplotlib.pyplot as plt\n",
    "\n",
    "dlblue = '#0096ff'\n",
    "dlorange = '#FF9300'\n",
    "dldarkred = '#C00000'\n",
    "dlmagenta = '#FF40FF'\n",
    "dlpurple = '#7030A0'\n",
    "plt.style.use('./deeplearning.mplstyle')"
   ],
   "id": "bdbbf39bed382026",
   "execution_count": 1,
   "outputs": []
  },
  {
   "metadata": {},
   "cell_type": "markdown",
   "source": [
    "# 线性回归，封闭式解\n",
    "\n",
    "scikit-learn具有[线性回归模型](https://scikit-learn.org/stable/modules/generated/sklearn.linear_model.LinearRegression.html#sklearn.linear_model.LinearRegression)，它实现了封闭式线性回归。\n",
    "\n",
    "让我们使用早期实验室的数据——一栋1000平方英尺的房子售价为30万美元，一栋2000平方英尺的房子售价为50万美元。\n",
    "\n",
    "| 尺寸（1000 平方英尺） | 价格（千美元） |\n",
    "|---------------|---------|\n",
    "| 1             | 300     | \n",
    "| 2             | 500     | "
   ],
   "id": "292e85a1cd843367"
  },
  {
   "metadata": {},
   "cell_type": "markdown",
   "source": "### 加载数据集",
   "id": "691f626c677cf041"
  },
  {
   "metadata": {
    "ExecuteTime": {
     "end_time": "2024-05-13T07:58:14.524070Z",
     "start_time": "2024-05-13T07:58:14.516071Z"
    }
   },
   "cell_type": "code",
   "source": [
    "X_train = np.array([1.0, 2.0])\n",
    "y_train = np.array([300, 500])"
   ],
   "id": "fae3ebcbc21949d",
   "execution_count": 2,
   "outputs": []
  },
  {
   "metadata": {},
   "cell_type": "markdown",
   "source": [
    "### 创建并拟合模型\n",
    "\n",
    "下面的代码使用scikit-learn执行回归。\n",
    "\n",
    "第一步创建一个回归对象。\n",
    "\n",
    "第二步利用与对象`fit`关联的方法之一。这将执行回归，将参数拟合到输入数据。该工具包需要一个二维$\\mathbf{X}$矩阵。"
   ],
   "id": "99fe12a48f649aa"
  },
  {
   "metadata": {
    "ExecuteTime": {
     "end_time": "2024-05-13T07:59:00.614423Z",
     "start_time": "2024-05-13T07:59:00.599916Z"
    }
   },
   "cell_type": "code",
   "source": [
    "linear_model = LinearRegression()\n",
    "linear_model.fit(X_train.reshape(-1, 1), y_train)"
   ],
   "id": "a9244cbc29377e55",
   "execution_count": 3,
   "outputs": []
  },
  {
   "metadata": {},
   "cell_type": "markdown",
   "source": [
    "### 查看参数\n",
    "\n",
    "$\\mathbf{w}$和$\\mathbf{b}$参数在scikit-learn中被称为“系数”和“截距”。"
   ],
   "id": "d088172939aef86e"
  },
  {
   "metadata": {
    "ExecuteTime": {
     "end_time": "2024-05-13T08:02:03.666219Z",
     "start_time": "2024-05-13T08:02:03.659207Z"
    }
   },
   "cell_type": "code",
   "source": [
    "b = linear_model.intercept_\n",
    "w = linear_model.coef_\n",
    "print(f\"w = {w:}, b = {b:0.2f}\")\n",
    "print(f\"'manual' prediction: f_wb = wx+b : {1200 * w + b}\")"
   ],
   "id": "bbb613ec2ec956bc",
   "execution_count": 4,
   "outputs": []
  },
  {
   "metadata": {},
   "cell_type": "markdown",
   "source": [
    "### 作出预测\n",
    "\n",
    "调用`predict`函数会生成预测。"
   ],
   "id": "3a95daca32592923"
  },
  {
   "metadata": {
    "ExecuteTime": {
     "end_time": "2024-05-13T08:02:43.157999Z",
     "start_time": "2024-05-13T08:02:43.150492Z"
    }
   },
   "cell_type": "code",
   "source": [
    "y_pred = linear_model.predict(X_train.reshape(-1, 1))\n",
    "print(\"Prediction on training set:\", y_pred)\n",
    "X_test = np.array([[1200]])\n",
    "print(f\"Prediction for 1200 sqft house: ${linear_model.predict(X_test)[0]:0.2f}\")"
   ],
   "id": "d7a8371289baf5d0",
   "execution_count": 5,
   "outputs": []
  },
  {
   "metadata": {},
   "cell_type": "markdown",
   "source": [
    "## 第二个例子\n",
    "\n",
    "第二个示例来自早期的具有多个功能的实验室。最终的参数值和预测非常接近该实验室的非标准化“长期”结果。这种非标准化的运行需要几个小时才能产生结果，而这几乎是瞬时的。封闭式解决方案在较小的数据集（例如这些数据集）上运行良好，但在较大的数据集上可能需要计算。\n",
    "\n",
    ">闭式解不需要归一化。"
   ],
   "id": "7c815ea700a20fb4"
  },
  {
   "metadata": {
    "ExecuteTime": {
     "end_time": "2024-05-13T08:03:56.607677Z",
     "start_time": "2024-05-13T08:03:56.601178Z"
    }
   },
   "cell_type": "code",
   "source": [
    "X_train, y_train = load_house_data()\n",
    "X_features = ['size(sqft)', 'bedrooms', 'floors', 'age']"
   ],
   "id": "81cb6d0d2550eaf5",
   "execution_count": 7,
   "outputs": []
  },
  {
   "metadata": {
    "ExecuteTime": {
     "end_time": "2024-05-13T08:04:05.108439Z",
     "start_time": "2024-05-13T08:04:05.101420Z"
    }
   },
   "cell_type": "code",
   "source": [
    "linear_model = LinearRegression()\n",
    "linear_model.fit(X_train, y_train)"
   ],
   "id": "f1e7f4d103879d5d",
   "execution_count": 9,
   "outputs": []
  },
  {
   "metadata": {
    "ExecuteTime": {
     "end_time": "2024-05-13T08:04:20.403055Z",
     "start_time": "2024-05-13T08:04:20.385049Z"
    }
   },
   "cell_type": "code",
   "source": [
    "b = linear_model.intercept_\n",
    "w = linear_model.coef_\n",
    "print(f\"w = {w:}, b = {b:0.2f}\")"
   ],
   "id": "5f790c46a9fd7153",
   "execution_count": 10,
   "outputs": []
  },
  {
   "metadata": {
    "ExecuteTime": {
     "end_time": "2024-05-13T08:04:34.054744Z",
     "start_time": "2024-05-13T08:04:34.040237Z"
    }
   },
   "cell_type": "code",
   "source": [
    "print(f\"Prediction on training set:\\n {linear_model.predict(X_train)[:4]}\")\n",
    "print(f\"prediction using w,b:\\n {(X_train @ w + b)[:4]}\")\n",
    "print(f\"Target values \\n {y_train[:4]}\")\n",
    "\n",
    "x_house = np.array([1200, 3, 1, 40]).reshape(-1, 4)\n",
    "x_house_predict = linear_model.predict(x_house)[0]\n",
    "print(f\" predicted price of a house with 1200 sqft, 3 bedrooms, 1 floor, 40 years old = ${x_house_predict * 1000:0.2f}\")"
   ],
   "id": "2650ca91ae21cdf",
   "execution_count": 11,
   "outputs": []
  },
  {
   "metadata": {},
   "cell_type": "markdown",
   "source": [
    "## 恭喜！\n",
    "\n",
    "在本实验室中，您：\n",
    "\n",
    "- 使用开源机器学习工具包scikit-learn\n",
    "- 使用该工具包中的封闭式解决方案实现线性回归"
   ],
   "id": "51d0050461640d05"
  }
 ],
 "metadata": {
  "kernelspec": {
   "display_name": "Python 3",
   "language": "python",
   "name": "python3"
  },
  "language_info": {
   "codemirror_mode": {
    "name": "ipython",
    "version": 2
   },
   "file_extension": ".py",
   "mimetype": "text/x-python",
   "name": "python",
   "nbconvert_exporter": "python",
   "pygments_lexer": "ipython2",
   "version": "2.7.6"
  }
 },
 "nbformat": 4,
 "nbformat_minor": 5
}
