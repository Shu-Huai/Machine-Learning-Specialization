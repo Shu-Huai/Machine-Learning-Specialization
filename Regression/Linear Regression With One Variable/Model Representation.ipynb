{
 "cells": [
  {
   "cell_type": "markdown",
   "metadata": {},
   "source": [
    "# 可选实验室：模型表示法\n",
    "\n",
    "<figure>\n",
    " <img src=\"../../images/C1_W1_L3_S1_Lecture_b.png\"   style=\"width:600px;height:200px;\">\n",
    "</figure>"
   ],
   "id": "5dfc12673aa8b5a0"
  },
  {
   "cell_type": "markdown",
   "metadata": {},
   "source": [
    "## 目标\n",
    "\n",
    "在本实验室中，您将\n",
    "\n",
    "- 学习如何使用单变量线性回归模型$f_{w,b}$"
   ],
   "id": "86964709a9237c9e"
  },
  {
   "cell_type": "markdown",
   "metadata": {},
   "source": [
    "## 工具\n",
    "\n",
    "在本实验室中，您将使用 \n",
    "\n",
    "- NumPy，一种流行的科学计算库\n",
    "- Matplotlib - 用于绘制数据的流行库"
   ],
   "id": "e9223c0f65832c01"
  },
  {
   "cell_type": "code",
   "metadata": {
    "ExecuteTime": {
     "end_time": "2024-05-13T08:53:10.307561Z",
     "start_time": "2024-05-13T08:53:09.423319Z"
    }
   },
   "source": [
    "import numpy as np\n",
    "import matplotlib.pyplot as plt\n",
    "\n",
    "plt.style.use('deeplearning.mplstyle')"
   ],
   "id": "9bc2f29e2e6c0b01",
   "execution_count": 1,
   "outputs": []
  },
  {
   "cell_type": "markdown",
   "metadata": {},
   "source": [
    "# 问题陈述\n",
    "\n",
    "<img align=\"left\" src=\"../../images/C1_W1_L3_S1_trainingdata.png\" style=\" width:380px; padding： 10px; \" /> \n",
    "\n",
    "与讲座中一样，您将使用住房价格预测这一激励性示例。\n",
    "\n",
    "本实验将使用一个简单的数据集，其中只有两个数据点——一栋1000平方英尺的房子售价为300,000美元和一栋2000平方英尺的房子，售价为500,000美元。这两个点将构成我们的*数据集或训练集*。\n",
    "\n",
    "在这个实验室中，面积单位是1000平方英尺，价格单位是1000美元。\n",
    "\n",
    "| 面积（1000平方英尺） | 价格（1000美元） |\n",
    "|--------------|------------|\n",
    "| 1.0          | 300        |\n",
    "| 2.0          | 500        |\n",
    "\n",
    "您想通过这两点拟合一个线性回归模型（如上图蓝色直线所示），这样您就可以预测其他房屋的价格，例如，面积为1200平方英尺的房屋。"
   ],
   "id": "de21ce86f507e4a"
  },
  {
   "cell_type": "markdown",
   "metadata": {},
   "source": "请运行以下代码单元来创建`x_train`和`y_train`变量。数据存储在一维NumPy数组中。",
   "id": "d7fd194ed71b468c"
  },
  {
   "cell_type": "code",
   "metadata": {
    "ExecuteTime": {
     "end_time": "2024-05-13T08:53:10.323069Z",
     "start_time": "2024-05-13T08:53:10.308561Z"
    }
   },
   "source": [
    "x_train = np.array([1.0, 2.0])\n",
    "y_train = np.array([300.0, 500.0])\n",
    "print(f\"x_train = {x_train}\")\n",
    "print(f\"y_train = {y_train}\")"
   ],
   "id": "7354f512c119fa8a",
   "execution_count": 2,
   "outputs": []
  },
  {
   "cell_type": "markdown",
   "metadata": {},
   "source": ">**注意**： 本课程在打印时将经常使用[此处](https://docs.python.org/3/tutorial/inputoutput.html)所描述的python“f-string”输出格式。输出时将对大括号之间的内容进行评估。",
   "id": "24b3d9f6e7b74726"
  },
  {
   "cell_type": "markdown",
   "metadata": {},
   "source": [
    "### 训练示例数`m`\n",
    "\n",
    "您将使用`m`表示训练示例的数量。Numpy数组有一个`.shape`参数。`x_train.shape`返回一个python元组，每个维度都有一个条目。如下所示，`x_train.shape[0]`是数组的长度和示例数。"
   ],
   "id": "e8ebc24e6da355df"
  },
  {
   "cell_type": "code",
   "metadata": {
    "ExecuteTime": {
     "end_time": "2024-05-13T08:53:10.338577Z",
     "start_time": "2024-05-13T08:53:10.324069Z"
    }
   },
   "source": [
    "print(f\"x_train.shape: {x_train.shape}\")\n",
    "m = x_train.shape[0]\n",
    "print(f\"Number of training examples is: {m}\")"
   ],
   "id": "16e29386683a029f",
   "execution_count": 3,
   "outputs": []
  },
  {
   "cell_type": "markdown",
   "metadata": {},
   "source": "也可以使用Python的`len()`函数，如下所示。",
   "id": "4826490315bb647"
  },
  {
   "cell_type": "code",
   "metadata": {
    "ExecuteTime": {
     "end_time": "2024-05-13T08:53:10.355884Z",
     "start_time": "2024-05-13T08:53:10.339576Z"
    }
   },
   "source": [
    "m = len(x_train)\n",
    "print(f\"Number of training examples is: {m}\")"
   ],
   "id": "c9dacf40270fc170",
   "execution_count": 4,
   "outputs": []
  },
  {
   "cell_type": "markdown",
   "metadata": {},
   "source": [
    "### 训练示例`x_i, y_i`\n",
    "\n",
    "您将使用(x$^{(i)}$, y$^{(i)}$)表示$i^{th}$训练示例。由于Python是零索引的，所以(x$^{(0)}$, y$^{(0)}$)是(1.0, 300.0)，而(x$^{(1)}$, y$^{(1)}$)是(2.0, 500.0)。\n",
    "\n",
    "要访问Numpy数组中的值，需要用所需的偏移量对数组进行索引。例如，访问`x_train`的第0个位置的语法是`x_train[0]`。\n",
    "\n",
    "运行下面的代码块，获取$i^{th}$训练示例。"
   ],
   "id": "5a56e694a23d6db"
  },
  {
   "cell_type": "code",
   "metadata": {
    "ExecuteTime": {
     "end_time": "2024-05-13T08:53:10.369592Z",
     "start_time": "2024-05-13T08:53:10.357585Z"
    }
   },
   "source": [
    "i = 0\n",
    "x_i = x_train[i]\n",
    "y_i = y_train[i]\n",
    "print(f\"(x^({i}), y^({i})) = ({x_i}, {y_i})\")"
   ],
   "id": "cd514c6c5f60ea61",
   "execution_count": 5,
   "outputs": []
  },
  {
   "cell_type": "markdown",
   "metadata": {},
   "source": "### 绘制数据图",
   "id": "9995406a724bb10b"
  },
  {
   "cell_type": "markdown",
   "metadata": {},
   "source": [
    "您可以使用`matplotlib`库中的`scatter()`函数绘制这两点，如下图所示。\n",
    "\n",
    "- 函数参数`marker`和`c`将点显示为红色十字（默认为蓝点）。\n",
    "\n",
    "您可以使用`matplotlib`库中的其他函数来设置要显示的标题和标签"
   ],
   "id": "1014b22d3a2d6b55"
  },
  {
   "cell_type": "code",
   "metadata": {
    "ExecuteTime": {
     "end_time": "2024-05-13T08:53:10.509150Z",
     "start_time": "2024-05-13T08:53:10.370591Z"
    }
   },
   "source": [
    "plt.scatter(x_train, y_train, marker='x', c='r')\n",
    "plt.title(\"Housing Prices\")\n",
    "plt.ylabel('Price (in 1000s of dollars)')\n",
    "plt.xlabel('Size (1000 sqft)')\n",
    "plt.show()"
   ],
   "id": "dd9651e6b7f8b340",
   "execution_count": 6,
   "outputs": []
  },
  {
   "cell_type": "markdown",
   "metadata": {},
   "source": [
    "## 模型功能\n",
    "\n",
    "<img align=\"left\" src=\"../../images/C1_W1_L3_S1_model.png\"     style=\" width:380px; padding: 10px; \" >\n",
    "\n",
    "如讲座所述，线性回归的模型函数（即从`x`映射到`y`的函数）表示为\n",
    "\n",
    "$$ f_{w,b}(x^{(i)}) = wx^{(i)} + b \\tag{1}$$\n",
    "\n",
    "上面的公式就是表示直线的方法——不同的$w$和$b$值会在图上显示出不同的直线。\n",
    "\n",
    "让我们通过下面的代码块来更好地理解这一点。让我们从$w = 100$和$b = 100$开始。\n",
    "\n",
    "**注：您可以返回该单元格调整模型的w和b参数**。"
   ],
   "id": "37e86c4bf1cfed0c"
  },
  {
   "cell_type": "code",
   "metadata": {
    "ExecuteTime": {
     "end_time": "2024-05-13T08:53:10.524658Z",
     "start_time": "2024-05-13T08:53:10.510151Z"
    }
   },
   "source": [
    "w = 100\n",
    "b = 100\n",
    "print(f\"w: {w}\")\n",
    "print(f\"b: {b}\")"
   ],
   "id": "e145c4ba176cd092",
   "execution_count": 7,
   "outputs": []
  },
  {
   "cell_type": "markdown",
   "metadata": {},
   "source": [
    "现在，我们来计算两个数据点的$f_{w,b}(x^{(i)})$值。您可以将每个数据点的计算结果明确写成\n",
    "\n",
    "对于$x^{(0)}$，`f_wb = w * x[0] + b`\n",
    "\n",
    "对于$x^{(1)}$, `f_wb = w * x[1] + b`\n",
    "\n",
    "对于大量数据点，这种方法可能会变得笨重和重复。因此，可以在一个 `for` 循环中计算函数输出，如下面的 `compute_model_output`\n",
    "函数所示。\n",
    "\n",
    "> **注意**： 参数说明 `(ndarray (m,))` 描述了一个形状为(m,)的Numpy n维数组。标量描述了一个没有维数，只有大小的参数。\n",
    "\n",
    "> **注意**： np.zero(n)`将返回一个有 $n$ 条目的一维numpy数组。"
   ],
   "id": "26558064b793e73a"
  },
  {
   "cell_type": "code",
   "metadata": {
    "ExecuteTime": {
     "end_time": "2024-05-13T08:53:10.540166Z",
     "start_time": "2024-05-13T08:53:10.525658Z"
    }
   },
   "source": [
    "def compute_model_output(x, f_w, f_b):\n",
    "    f_m = x.shape[0]\n",
    "    f_wb = np.zeros(f_m)\n",
    "    for f_i in range(f_m):\n",
    "        f_wb[f_i] = f_w * x[f_i] + f_b\n",
    "    return f_wb"
   ],
   "id": "dc88bcaea406a6a7",
   "execution_count": 8,
   "outputs": []
  },
  {
   "cell_type": "markdown",
   "metadata": {},
   "source": "现在，让我们调用`compute_model_output`函数并绘制输出结果。",
   "id": "233c4ea7c49aa2b5"
  },
  {
   "cell_type": "code",
   "metadata": {
    "ExecuteTime": {
     "end_time": "2024-05-13T08:53:10.633286Z",
     "start_time": "2024-05-13T08:53:10.542166Z"
    }
   },
   "source": [
    "tmp_f_wb = compute_model_output(x_train, w, b, )\n",
    "plt.plot(x_train, tmp_f_wb, c='b', label='Our Prediction')\n",
    "plt.scatter(x_train, y_train, marker='x', c='r', label='Actual Values')\n",
    "plt.title(\"Housing Prices\")\n",
    "plt.ylabel('Price (in 1000s of dollars)')\n",
    "plt.xlabel('Size (1000 sqft)')\n",
    "plt.legend()\n",
    "plt.show()"
   ],
   "id": "fbfb27d57d812975",
   "execution_count": 9,
   "outputs": []
  },
  {
   "cell_type": "markdown",
   "metadata": {},
   "source": [
    "如您所见，设置$w = 100$和$b = 100$**并不能**得到一条符合数据的直线。\n",
    "\n",
    "### 挑战\n",
    "\n",
    "尝试使用不同的$w$和$b$值。要得到符合数据的直线，这些值应该是多少？\n",
    "\n",
    "#### 提示：\n",
    "\n",
    "您可以用鼠标点击下面绿色“提示”左侧的三角形，显示一些选择b和w。"
   ],
   "id": "e99f3a067ceed0f6"
  },
  {
   "cell_type": "markdown",
   "metadata": {},
   "source": [
    "<details>\n",
    "<summary>\n",
    "    <font size='3', color='darkgreen'><b>提示</b></font>\n",
    "</summary>\n",
    "<p>\n",
    "    <ul>\n",
    "        <li>尝试$w = 200$和$b = 100$</li>\n",
    "    </ul>\n",
    "</p>"
   ],
   "id": "59be78635c2a211a"
  },
  {
   "cell_type": "markdown",
   "metadata": {},
   "source": [
    "### 预测\n",
    "\n",
    "现在我们有了一个模型，可以用它来进行最初的预测。让我们预测一栋1200平方英尺的房子的价格。由于$x$的单位是1000平方英尺，所以$x$是1.2。\n"
   ],
   "id": "3388eb54427a9102"
  },
  {
   "cell_type": "code",
   "metadata": {
    "ExecuteTime": {
     "end_time": "2024-05-13T08:53:10.648788Z",
     "start_time": "2024-05-13T08:53:10.634787Z"
    }
   },
   "source": [
    "w = 200\n",
    "b = 100\n",
    "x_i = 1.2\n",
    "cost_1200sqft = w * x_i + b\n",
    "print(f\"${cost_1200sqft:.0f} thousand dollars\")"
   ],
   "id": "db3f3b9bc966c2fe",
   "execution_count": 10,
   "outputs": []
  },
  {
   "cell_type": "markdown",
   "metadata": {},
   "source": [
    "# 恭喜你！\n",
    "\n",
    "在本实验室中，您学到了\n",
    "\n",
    "- 线性回归建立模型，在特征和目标之间建立关系\n",
    "  - 在上面的例子中，特征是房屋大小，目标是房屋价格\n",
    "  - 对于简单的线性回归，模型有两个参数$w$和$b$，其值使用*训练数据*“拟合”。\n",
    "  - 一旦确定了模型的参数，就可以使用该模型对新数据进行预测。"
   ],
   "id": "8f2fb75e912f03e7"
  }
 ],
 "metadata": {
  "kernelspec": {
   "display_name": "Python 3",
   "language": "python",
   "name": "python3"
  },
  "language_info": {
   "codemirror_mode": {
    "name": "ipython",
    "version": 3
   },
   "file_extension": ".py",
   "mimetype": "text/x-python",
   "name": "python",
   "nbconvert_exporter": "python",
   "pygments_lexer": "ipython3",
   "version": "3.7.6"
  },
  "toc-autonumbering": false
 },
 "nbformat": 4,
 "nbformat_minor": 5
}
