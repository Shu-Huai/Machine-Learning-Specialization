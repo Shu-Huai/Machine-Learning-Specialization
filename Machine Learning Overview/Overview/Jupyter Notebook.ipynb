{
 "cells": [
  {
   "cell_type": "markdown",
   "metadata": {},
   "source": [
    "# 可选实验室：  Python 和 Jupyter 笔记本简介\n",
    "\n",
    "欢迎来到第一个自选实验室！\n",
    "\n",
    "可选实验室用于\n",
    "- 提供信息--比如本笔记本\n",
    "- 通过动手实例巩固讲义内容\n",
    "- 提供分级实验中使用的例程的工作示例"
   ],
   "id": "3b3bd44fb82a306"
  },
  {
   "cell_type": "markdown",
   "metadata": {},
   "source": [
    "## 目标\n",
    "\n",
    "在本实验室中，您将\n",
    "\n",
    "- 简要介绍 Jupyter 笔记本\n",
    "- 参观 Jupyter 笔记本\n",
    "- 了解标记单元格和代码单元格的区别\n",
    "- 练习一些基本的 python"
   ],
   "id": "de9e22ee0fd84de1"
  },
  {
   "cell_type": "markdown",
   "metadata": {},
   "source": "要熟悉 Jupyter 笔记本，最简单的方法就是参加上面 \"帮助 \"菜单中的导览：",
   "id": "e7658b11d69c043"
  },
  {
   "metadata": {},
   "cell_type": "markdown",
   "source": [
    "<figure>\n",
    "    <img src=\"../../images/C1W1L1_Tour.png\"  width=\"400\"  >\n",
    "<figure/>"
   ],
   "id": "37835e6c8a66c69d"
  },
  {
   "cell_type": "markdown",
   "metadata": {},
   "source": "本课程中使用的 Jupyter 笔记本有两种单元格。像这样包含文档的单元格称为 \"Markdown 单元格\"。该名称源自单元格中使用的简单格式化语言。您不需要制作标记符单元格。理解下图中的 \"单元格下拉菜单 \"是非常有用的。有时，单元格会处于错误的模式，您可能需要将其恢复到正确的状态：",
   "id": "5f5f705bd659d31c"
  },
  {
   "cell_type": "markdown",
   "metadata": {},
   "source": [
    "<figure>\n",
    "   <img src=\"../../images/C1W1L1_Markdown.png\"  alt='missing' width=\"400\"  >\n",
    "<figure/>"
   ],
   "id": "f5aafdc7242daa1a"
  },
  {
   "cell_type": "markdown",
   "metadata": {},
   "source": "另一种单元格是 \"代码单元格\"，您将在其中写入代码：",
   "id": "8f49dfc66d786798"
  },
  {
   "cell_type": "code",
   "metadata": {
    "ExecuteTime": {
     "end_time": "2024-04-24T16:28:45.533561Z",
     "start_time": "2024-04-24T16:28:45.525547Z"
    }
   },
   "source": "print(\"This is a code cell\")",
   "id": "a06b61cbaff772f7",
   "execution_count": 2,
   "outputs": []
  },
  {
   "cell_type": "markdown",
   "metadata": {},
   "source": [
    "## Python\n",
    "\n",
    "您可以在代码单元格中编写代码。\n",
    "\n",
    "要运行代码，请选中单元格，然后按住\n",
    "\n",
    "- 按住 shift 键并点击 \"enter \"或 \"return\n",
    "- 点击上方的 \"运行 \"箭头\n",
    "<figure>\n",
    "    <img src=\"../../images/C1W1L1_Run.png\"  width=\"400\"  >\n",
    "<figure/>"
   ],
   "id": "f2e86fe1fad2bd4d"
  },
  {
   "cell_type": "markdown",
   "metadata": {},
   "source": [
    "### 打印语句\n",
    "\n",
    "打印语句一般使用 python f-string 风格。 \n",
    "\n",
    "请尝试在以下单元格中创建自己的打印语句。 \n",
    "\n",
    "尝试两种运行单元格的方法。"
   ],
   "id": "55c4798cca44c2"
  },
  {
   "cell_type": "code",
   "metadata": {
    "ExecuteTime": {
     "end_time": "2024-04-24T16:29:31.393130Z",
     "start_time": "2024-04-24T16:29:31.384612Z"
    }
   },
   "source": [
    "variable = \"right in the strings!\"\n",
    "print(f\"f strings allow you to embed variables {variable}\")"
   ],
   "id": "965860a5ce78bbd2",
   "execution_count": 3,
   "outputs": []
  },
  {
   "cell_type": "markdown",
   "metadata": {},
   "source": [
    "# 恭喜你！\n",
    "\n",
    "你现在知道如何在 Jupyter Notebook 中找到自己的位置了。"
   ],
   "id": "f99e245070e15f1b"
  }
 ],
 "metadata": {
  "kernelspec": {
   "display_name": "Python 3",
   "language": "python",
   "name": "python3"
  },
  "language_info": {
   "codemirror_mode": {
    "name": "ipython",
    "version": 3
   },
   "file_extension": ".py",
   "mimetype": "text/x-python",
   "name": "python",
   "nbconvert_exporter": "python",
   "pygments_lexer": "ipython3",
   "version": "3.7.6"
  }
 },
 "nbformat": 4,
 "nbformat_minor": 5
}
