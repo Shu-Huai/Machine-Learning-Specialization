{
 "cells": [
  {
   "metadata": {},
   "cell_type": "markdown",
   "source": "# 可选实验室：逻辑回归、决策边界",
   "id": "fa8f777fe918f2ff"
  },
  {
   "metadata": {},
   "cell_type": "markdown",
   "source": [
    "## 目标\n",
    "\n",
    "在本实验室中，您将：\n",
    "\n",
    "- 绘制逻辑回归模型的决策边界。这将使您更好地了解模型的预测内容。"
   ],
   "id": "d3c8dd5bab03ab0a"
  },
  {
   "metadata": {
    "ExecuteTime": {
     "end_time": "2024-05-13T16:17:55.346548Z",
     "start_time": "2024-05-13T16:17:54.335343Z"
    }
   },
   "cell_type": "code",
   "source": [
    "import numpy as np\n",
    "%matplotlib widget\n",
    "import matplotlib.pyplot as plt\n",
    "from Classification.Concept.lab_utils_common import plot_data, sigmoid, draw_vthresh\n",
    "\n",
    "plt.style.use('deeplearning.mplstyle')"
   ],
   "id": "18cb4b2963fe1db3",
   "execution_count": 1,
   "outputs": []
  },
  {
   "metadata": {},
   "cell_type": "markdown",
   "source": [
    "## 数据集\n",
    "\n",
    "假设您有以下训练数据集\n",
    "- 输入变量`X`是一个NumPy数组，它有6个训练示例，每个示例有两个特征\n",
    "- 输出变量`y`也是一个包含6个示例的NumPy数组，`y`可以是`0`或`1`"
   ],
   "id": "9df14ac8d0431bb1"
  },
  {
   "metadata": {
    "ExecuteTime": {
     "end_time": "2024-05-13T16:18:41.247008Z",
     "start_time": "2024-05-13T16:18:41.238011Z"
    }
   },
   "cell_type": "code",
   "source": [
    "X = np.array([[0.5, 1.5], [1, 1], [1.5, 0.5], [3, 0.5], [2, 2], [1, 2.5]])\n",
    "y = np.array([0, 0, 0, 1, 1, 1]).reshape(-1, 1)"
   ],
   "id": "dc5e6c01ed0d2dc1",
   "execution_count": 2,
   "outputs": []
  },
  {
   "metadata": {},
   "cell_type": "markdown",
   "source": [
    "### 绘制数据\n",
    "\n",
    "让我们使用辅助函数来绘制这些数据。标签$y=1$的数据点显示为红色十字，而标签$y=0$的数据点显示为蓝色圆圈。"
   ],
   "id": "ee573688d42e2ae6"
  },
  {
   "metadata": {
    "ExecuteTime": {
     "end_time": "2024-05-13T16:19:57.993812Z",
     "start_time": "2024-05-13T16:19:57.768221Z"
    }
   },
   "cell_type": "code",
   "source": [
    "fig, ax = plt.subplots(1, 1, figsize=(4, 4))\n",
    "plot_data(X, y, ax)\n",
    "ax.axis([0, 4, 0, 3.5])\n",
    "ax.set_ylabel('$x_1$')\n",
    "ax.set_xlabel('$x_0$')\n",
    "plt.show()"
   ],
   "id": "a30ec4dac320044c",
   "execution_count": 3,
   "outputs": []
  },
  {
   "metadata": {},
   "cell_type": "markdown",
   "source": [
    "## 逻辑回归模型\n",
    "\n",
    "* 假设您想在此数据上训练逻辑回归模型，其形式为\n",
    "\n",
    "  $f(x)=g(w_0x_0+w_1x_1+b)$\n",
    "\n",
    "  其中 $g(z) = \\frac{1}{1+e^{-z}}$，这是Sigmoid函数\n",
    "* 假设您训练了模型并获得参数为$b=-3,w_0=1,w_1=1$。那是，\n",
    "\n",
    "  $f(x)=g(x_0+x_1-3)$\n",
    "\n",
    "  （您将在课程中进一步学习如何将这些参数与数据相匹配）\n",
    "\n",
    "让我们尝试通过绘制决策边界来了解这个训练模型的预测内容"
   ],
   "id": "d3b4d0ce191e701"
  },
  {
   "metadata": {},
   "cell_type": "markdown",
   "source": [
    "### 回顾逻辑回归和决策边界\n",
    "\n",
    "* 回想一下，对于逻辑回归，模型表示为$f_{\\mathbf{w},b}(\\mathbf{x}^{(i)})=g(\\mathbf{w}\\cdot\\mathbf{x}^{(i)}+b)\\tag{1}$\n",
    "\n",
    "  其中$g(z)$称为Sigmoid函数，它将所有输入值映射到0到1之间的值：\n",
    "\n",
    "  $g(z)=\\frac{1}{1+e^{-z}}\\tag{2}$\n",
    "\n",
    "  $\\mathbf{w}\\cdot\\mathbf{x}$是向量点积：$\\mathbf{w}\\cdot\\mathbf{x}=w_0x_0+w_1x_1$\n",
    "    * 我们将模型的输出（$f_{\\mathbf{w},b}(x)$) 解释为给定$x$并由$w$和$b$参数化的$y=1$的概率。\n",
    "* 因此，要从逻辑回归模型获得最终预测（$y=0$或$y=1$），我们可以使用以下启发式——\n",
    "\n",
    "  如果$f_{\\mathbf{w},b}(x)>=0.5$，则预测$y=1$\n",
    "\n",
    "  如果$f_{\\mathbf{w},b}(x)<0.5$，则预测$y=0$\n",
    "* 让我们绘制Sigmoid函数来看看$g(z) >= 0.5$在哪里"
   ],
   "id": "fe7a7f8137bc8e75"
  },
  {
   "metadata": {
    "ExecuteTime": {
     "end_time": "2024-05-13T17:20:54.708383Z",
     "start_time": "2024-05-13T17:20:54.650923Z"
    }
   },
   "cell_type": "code",
   "source": [
    "z = np.arange(-10, 11)\n",
    "fig, ax = plt.subplots(1, 1, figsize=(5, 3))\n",
    "ax.plot(z, sigmoid(z), c=\"b\")\n",
    "ax.set_title(\"Sigmoid function\")\n",
    "ax.set_ylabel('sigmoid(z)')\n",
    "ax.set_xlabel('z')\n",
    "draw_vthresh(ax, 0)"
   ],
   "id": "9feafea7e218a8db",
   "execution_count": 5,
   "outputs": []
  },
  {
   "metadata": {},
   "cell_type": "markdown",
   "source": "",
   "id": "ef5713145005b16"
  },
  {
   "metadata": {},
   "cell_type": "markdown",
   "source": [
    "* 如您所见，$g(z)>=0.5$对于$z>=0$\n",
    "* 对于逻辑回归模型，$z=\\mathbf{w}\\cdot\\mathbf{x}+b$。所以，\n",
    "\n",
    "  如果$\\mathbf{w}\\cdot\\mathbf{x}+b>=0$，则模型预测$y=1$\n",
    "  \n",
    "  如果$\\mathbf{w}\\cdot\\mathbf{x}+b<0$，则模型预测$y=0$\n",
    "\n",
    "### 绘制决策边界\n",
    "\n",
    "现在，让我们回到我们的示例，了解逻辑回归模型如何进行预测。\n",
    "\n",
    "* 我们的逻辑回归模型具有以下形式\n",
    "\n",
    "  $f(x) = g(-3 + x_0+x_1)$\n",
    "* 从上面学到的内容中，您可以看到，如果$-3+x_0+x_1>= 0$，则该模型预测$y=1$\n",
    "\n",
    "让我们看看它在图形上是什么样子的。我们首先绘制$-3+x_0+x_1=0$，这相当于$x_1=3-x_0$。"
   ],
   "id": "10239835fedc45f6"
  },
  {
   "metadata": {
    "ExecuteTime": {
     "end_time": "2024-05-13T17:26:17.897741Z",
     "start_time": "2024-05-13T17:26:17.810563Z"
    }
   },
   "cell_type": "code",
   "source": [
    "x0 = np.arange(0, 6)\n",
    "x1 = 3 - x0\n",
    "fig, ax = plt.subplots(1, 1, figsize=(5, 4))\n",
    "ax.plot(x0, x1, c=\"b\")\n",
    "ax.axis([0, 4, 0, 3.5])\n",
    "ax.fill_between(x0, x1, alpha=0.2)\n",
    "plot_data(X, y, ax)\n",
    "ax.set_ylabel(r'$x_1$')\n",
    "ax.set_xlabel(r'$x_0$')\n",
    "plt.show()"
   ],
   "id": "23f63fc9d5eba9cb",
   "execution_count": 6,
   "outputs": []
  },
  {
   "metadata": {},
   "cell_type": "markdown",
   "source": [
    "* 在上图中，蓝线代表$x_0+x_1-3=0$线，它应该在3处与x1轴相交（如果我们设置$x_1=3$，$x_0=0$）和x0轴为3（如果我们设置$x_1=0$，$x_0=3$）。\n",
    "* 阴影区域代表$-3+x_0+x_1<0$。该线上方的区域为$-3+x_0+x_1>0$。\n",
    "* 阴影区域（线下方）中的任何点都被归类为 $y=0$。线上或线上的任何点都被分类为$y=1$。这条线被称为“决策边界”。\n",
    "\n",
    "正如我们在讲座中所看到的，通过使用高阶多项式项（例如：$f(x)=g(x_0^2+x_1-1)$，我们可以得出更复杂的非线性边界。"
   ],
   "id": "dfbab2ceafe52c7d"
  },
  {
   "metadata": {},
   "cell_type": "markdown",
   "source": [
    "## 恭喜！\n",
    "\n",
    "您已经在逻辑回归的背景下探索了决策边界。"
   ],
   "id": "cb60d4eb28a54be4"
  }
 ],
 "metadata": {
  "kernelspec": {
   "display_name": "Python 3",
   "language": "python",
   "name": "python3"
  },
  "language_info": {
   "codemirror_mode": {
    "name": "ipython",
    "version": 2
   },
   "file_extension": ".py",
   "mimetype": "text/x-python",
   "name": "python",
   "nbconvert_exporter": "python",
   "pygments_lexer": "ipython2",
   "version": "2.7.6"
  }
 },
 "nbformat": 4,
 "nbformat_minor": 5
}
