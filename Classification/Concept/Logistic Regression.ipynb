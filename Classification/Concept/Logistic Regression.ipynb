{
 "cells": [
  {
   "metadata": {},
   "cell_type": "markdown",
   "source": [
    "# 可选实验：逻辑回归\n",
    "\n",
    "在这个未评分的实验室中，您将\n",
    "\n",
    "- 探索Sigmoid函数（也称为逻辑函数）\n",
    "- 探索逻辑回归；它使用Sigmoid函数"
   ],
   "id": "7a4b38f953013e92"
  },
  {
   "metadata": {
    "ExecuteTime": {
     "end_time": "2024-05-14T05:44:21.391921Z",
     "start_time": "2024-05-14T05:44:20.175040Z"
    }
   },
   "cell_type": "code",
   "source": [
    "import numpy as np\n",
    "%matplotlib widget\n",
    "import matplotlib.pyplot as plt\n",
    "from Classification.Concept.plt_one_addpt_onclick import plt_one_addpt_onclick\n",
    "from Classification.Concept.lab_utils_common import draw_vthresh\n",
    "\n",
    "plt.style.use('deeplearning.mplstyle')"
   ],
   "id": "b02cbc9558b44f9c",
   "execution_count": 1,
   "outputs": []
  },
  {
   "metadata": {},
   "cell_type": "markdown",
   "source": [
    "## Sigmoid或Logistic函数\n",
    "\n",
    "<img align=\"left\" src=\"../../images/C1_W3_LogisticRegression_left.png\" style=\" width:300px; padding: 10px;\" >\n",
    "\n",
    "正如讲座视频中所讨论的，对于分类任务，我们可以使用我们的线性回归模型，$f_{\\mathbf{w},b}(\\mathbf{x}^{(i)})=\\mathbf{w}\\cdot\\mathbf{x}^{(i)}+b$，给定$x$来预测$y$。\n",
    "\n",
    "- 但是，我们希望分类模型的预测介于0和1之间，因为我们的输出变量$y$为0或1。\n",
    "- 这可以通过使用“sigmoid函数”来实现，该函数将所有输入值映射到0到1之间的值。\n",
    "\n",
    "让我们实现Sigmoid函数并亲眼看看。\n",
    "\n",
    "## Sigmoid函数的公式\n",
    "\n",
    "Sigmoid函数的公式如下——\n",
    "\n",
    "$g(z)=\\frac{1}{1+e^{-z}}\\tag{1}$\n",
    "\n",
    "在逻辑回归中，z（Sigmoid函数的输入）是线性回归模型的输出。\n",
    "\n",
    "- 在单个示例的情况下，$z$是标量。\n",
    "- 在有多个示例的情况下，$z$可以是由$m$值组成的向量，每个示例一个。\n",
    "- Sigmoid函数的实现应该涵盖这两种潜在的输入格式。\n",
    "\n",
    "让我们用Python来实现它。"
   ],
   "id": "9bb5ccfd1eb3055c"
  },
  {
   "metadata": {},
   "cell_type": "markdown",
   "source": [
    "NumPy有一个名为[`exp()`](https://numpy.org/doc/stable/reference/generated/numpy.exp.html)的函数，它提供了一种计算指数的便捷方法（$e^{z}$）输入数组（`z`）中的所有元素。\n",
    " \n",
    "它还可以使用单个数字作为输入，如下所示。"
   ],
   "id": "9e3d2a97d1704bdf"
  },
  {
   "metadata": {
    "ExecuteTime": {
     "end_time": "2024-05-14T05:44:21.407102Z",
     "start_time": "2024-05-14T05:44:21.393095Z"
    }
   },
   "cell_type": "code",
   "source": [
    "input_array = np.array([1, 2, 3])\n",
    "exp_array = np.exp(input_array)\n",
    "print(\"Input to exp:\", input_array)\n",
    "print(\"Output of exp:\", exp_array)\n",
    "input_val = 1\n",
    "exp_val = np.exp(input_val)\n",
    "print(\"Input to exp:\", input_val)\n",
    "print(\"Output of exp:\", exp_val)"
   ],
   "id": "cb06c5f217965969",
   "execution_count": 2,
   "outputs": []
  },
  {
   "metadata": {},
   "cell_type": "markdown",
   "source": "`sigmoid`函数在Python中实现，如下面的单元格所示。",
   "id": "760c950c2b64fd5c"
  },
  {
   "metadata": {
    "ExecuteTime": {
     "end_time": "2024-05-14T05:44:21.422609Z",
     "start_time": "2024-05-14T05:44:21.408104Z"
    }
   },
   "cell_type": "code",
   "source": [
    "def sigmoid(z):\n",
    "    g = 1 / (1 + np.exp(-z))\n",
    "    return g"
   ],
   "id": "f33e4479b63347bb",
   "execution_count": 3,
   "outputs": []
  },
  {
   "metadata": {},
   "cell_type": "markdown",
   "source": "让我们看看这个函数的输出对于不同的`z`值是什么",
   "id": "d27b51bcfaa31820"
  },
  {
   "metadata": {
    "ExecuteTime": {
     "end_time": "2024-05-14T05:44:21.438042Z",
     "start_time": "2024-05-14T05:44:21.424031Z"
    }
   },
   "cell_type": "code",
   "source": [
    "z_tmp = np.arange(-10, 11)\n",
    "y = sigmoid(z_tmp)\n",
    "np.set_printoptions(precision=3)\n",
    "print(\"Input (z), Output (sigmoid(z))\")\n",
    "print(np.c_[z_tmp, y])"
   ],
   "id": "36a4867f1bc047c5",
   "execution_count": 4,
   "outputs": []
  },
  {
   "metadata": {},
   "cell_type": "markdown",
   "source": [
    "左列中的值为`z`，右列中的值为`sigmoid(z)`。如您所见，Sigmoid的输入值范围为-10到10，输出值范围为0到1。\n",
    "\n",
    "现在，让我们尝试使用`matplotlib`库来绘制该函数。"
   ],
   "id": "3c5fa233c356edba"
  },
  {
   "metadata": {
    "ExecuteTime": {
     "end_time": "2024-05-14T05:44:21.530500Z",
     "start_time": "2024-05-14T05:44:21.439542Z"
    }
   },
   "cell_type": "code",
   "source": [
    "fig, ax = plt.subplots(1, 1, figsize=(5, 3))\n",
    "ax.plot(z_tmp, y, c=\"b\")\n",
    "ax.set_title(\"Sigmoid function\")\n",
    "ax.set_ylabel('sigmoid(z)')\n",
    "ax.set_xlabel('z')\n",
    "draw_vthresh(ax, 0)"
   ],
   "id": "f4c6f8376e742683",
   "execution_count": 5,
   "outputs": []
  },
  {
   "metadata": {},
   "cell_type": "markdown",
   "source": "正如您所看到的，当`z`变为较大的负值时，Sigmoid函数接近`0`，而当`z`变为较大的正值时，Sigmoid函数接近`1`。",
   "id": "8eb9757b49049b18"
  },
  {
   "metadata": {},
   "cell_type": "markdown",
   "source": [
    "## 逻辑回归\n",
    "\n",
    "<img align=\"left\" src=\"../../images/C1_W3_LogisticRegression_right.png\" style=\"width:300px; padding: 10px;\" >\n",
    "\n",
    "逻辑回归模型将Sigmoid应用于熟悉的线性回归模型，如下所示：\n",
    "\n",
    "$$f_{\\mathbf{w},b}(\\mathbf{x}^{(i)})=g(\\mathbf{w}\\cdot\\mathbf{x}^{(i)}+b)\\tag{2}$$\n",
    "\n",
    "在哪里\n",
    "\n",
    "$g(z)=\\frac{1}{1+e^{-z}}\\tag{3}$"
   ],
   "id": "814d4a560c1f7b48"
  },
  {
   "metadata": {},
   "cell_type": "markdown",
   "source": [
    "让我们将逻辑回归应用于肿瘤分类的分类数据示例。\n",
    "\n",
    "首先，加载示例和参数的初始值。"
   ],
   "id": "2e2c155069c633db"
  },
  {
   "metadata": {
    "ExecuteTime": {
     "end_time": "2024-05-14T05:44:21.546001Z",
     "start_time": "2024-05-14T05:44:21.532501Z"
    }
   },
   "cell_type": "code",
   "source": [
    "x_train = np.array([0., 1, 2, 3, 4, 5])\n",
    "y_train = np.array([0, 0, 0, 1, 1, 1])\n",
    "w_in = np.zeros(1)\n",
    "b_in = 0"
   ],
   "id": "52873024b29eb974",
   "execution_count": 6,
   "outputs": []
  },
  {
   "metadata": {},
   "cell_type": "markdown",
   "source": [
    "请尝试以下步骤：\n",
    "\n",
    "- 单击“Run Logistic Regression”以查找给定训练数据的最佳逻辑回归模型\n",
    "    - 请注意，生成的模型非常适合数据。\n",
    "    - 注意，橙色线是上面的“$z$”或$\\mathbf{w}\\cdot\\mathbf{x}^{(i)}+b$。它与线性回归模型中的线不匹配。\n",
    "      通过应用*阈值*进一步改善这些结果。\n",
    "- 勾选“Toggle 0.5 threshold”框以显示应用阈值时的预测。\n",
    "    - 这些预测看起来不错。预测与数据相符\n",
    "    - 现在，在大肿瘤尺寸范围（接近 10）中添加更多数据点，并重新运行线性回归。\n",
    "    - 与线性回归模型不同，该模型持续做出正确的预测"
   ],
   "id": "daaf5a33295dc710"
  },
  {
   "metadata": {
    "ExecuteTime": {
     "end_time": "2024-05-14T05:44:21.638411Z",
     "start_time": "2024-05-14T05:44:21.547788Z"
    }
   },
   "cell_type": "code",
   "source": [
    "plt.close('all')\n",
    "addpt = plt_one_addpt_onclick(x_train, y_train, w_in, b_in, logistic=True)"
   ],
   "id": "3a198832a43bb863",
   "execution_count": 7,
   "outputs": []
  },
  {
   "metadata": {},
   "cell_type": "markdown",
   "source": [
    "## 恭喜！\n",
    "\n",
    "您已经探索了Sigmoid函数在逻辑回归中的使用。"
   ],
   "id": "495df2936d7dd510"
  }
 ],
 "metadata": {
  "kernelspec": {
   "display_name": "Python 3",
   "language": "python",
   "name": "python3"
  },
  "language_info": {
   "codemirror_mode": {
    "name": "ipython",
    "version": 2
   },
   "file_extension": ".py",
   "mimetype": "text/x-python",
   "name": "python",
   "nbconvert_exporter": "python",
   "pygments_lexer": "ipython2",
   "version": "2.7.6"
  }
 },
 "nbformat": 4,
 "nbformat_minor": 5
}
