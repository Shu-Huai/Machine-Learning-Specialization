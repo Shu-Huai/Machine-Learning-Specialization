{
 "cells": [
  {
   "metadata": {},
   "cell_type": "markdown",
   "source": "# 未评分实验室：使用Scikit-learn进行逻辑回归",
   "id": "57bc044469b147c9"
  },
  {
   "metadata": {},
   "cell_type": "markdown",
   "source": [
    "## 目标\n",
    "\n",
    "在本实验室中，您将：\n",
    "\n",
    "- 使用scikit-learn训练逻辑回归模型。"
   ],
   "id": "7c6461cb8df31218"
  },
  {
   "metadata": {},
   "cell_type": "markdown",
   "source": [
    "## 数据集\n",
    "\n",
    "让我们从与之前相同的数据集开始。"
   ],
   "id": "468b84c42818136f"
  },
  {
   "metadata": {
    "ExecuteTime": {
     "end_time": "2024-05-14T08:28:40.488714Z",
     "start_time": "2024-05-14T08:28:40.186094Z"
    }
   },
   "cell_type": "code",
   "source": [
    "import numpy as np\n",
    "\n",
    "X = np.array([[0.5, 1.5], [1, 1], [1.5, 0.5], [3, 0.5], [2, 2], [1, 2.5]])\n",
    "y = np.array([0, 0, 0, 1, 1, 1])"
   ],
   "id": "fe44a6e861e1edeb",
   "execution_count": 1,
   "outputs": []
  },
  {
   "metadata": {},
   "cell_type": "markdown",
   "source": [
    "## 拟合模型\n",
    "\n",
    "下面的代码从scikit-learn导入[逻辑回归模型](https://scikit-learn.org/stable/modules/generated/sklearn.linear_model.LogisticRegression.html#sklearn.linear_model.LogisticRegression)。您可以通过调用`fit`函数将该模型拟合到训练数据上。"
   ],
   "id": "7d79019de2caeaa8"
  },
  {
   "metadata": {
    "ExecuteTime": {
     "end_time": "2024-05-14T08:29:21.040016Z",
     "start_time": "2024-05-14T08:29:15.234379Z"
    }
   },
   "cell_type": "code",
   "source": [
    "from sklearn.linear_model import LogisticRegression\n",
    "\n",
    "lr_model = LogisticRegression()\n",
    "lr_model.fit(X, y)"
   ],
   "id": "5c80fbcbabf68a94",
   "execution_count": 2,
   "outputs": []
  },
  {
   "metadata": {},
   "cell_type": "markdown",
   "source": [
    "## 作出预测\n",
    "\n",
    "您可以通过调用`predict`函数来查看该模型所做的预测。"
   ],
   "id": "4d386a58deac890"
  },
  {
   "metadata": {
    "ExecuteTime": {
     "end_time": "2024-05-14T08:29:45.867006Z",
     "start_time": "2024-05-14T08:29:45.858008Z"
    }
   },
   "cell_type": "code",
   "source": [
    "y_pred = lr_model.predict(X)\n",
    "print(\"Prediction on training set:\", y_pred)"
   ],
   "id": "f200e8e3ef292168",
   "execution_count": 3,
   "outputs": []
  },
  {
   "metadata": {},
   "cell_type": "markdown",
   "source": [
    "## 计算准确率\n",
    "\n",
    "您可以通过调用`score`函数来计算该模型的准确性。"
   ],
   "id": "d12f43eafd1a429a"
  },
  {
   "metadata": {
    "ExecuteTime": {
     "end_time": "2024-05-14T08:30:28.663751Z",
     "start_time": "2024-05-14T08:30:28.648101Z"
    }
   },
   "cell_type": "code",
   "source": "print(\"Accuracy on training set:\", lr_model.score(X, y))",
   "id": "515c934caf800f18",
   "execution_count": 4,
   "outputs": []
  }
 ],
 "metadata": {
  "kernelspec": {
   "display_name": "Python 3",
   "language": "python",
   "name": "python3"
  },
  "language_info": {
   "codemirror_mode": {
    "name": "ipython",
    "version": 2
   },
   "file_extension": ".py",
   "mimetype": "text/x-python",
   "name": "python",
   "nbconvert_exporter": "python",
   "pygments_lexer": "ipython2",
   "version": "2.7.6"
  }
 },
 "nbformat": 4,
 "nbformat_minor": 5
}
