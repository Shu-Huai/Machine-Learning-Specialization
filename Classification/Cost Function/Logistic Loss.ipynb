{
 "cells": [
  {
   "metadata": {},
   "cell_type": "markdown",
   "source": [
    "# 可选实验：逻辑回归、逻辑损失\n",
    "\n",
    "在这个未评分的实验室中，您将：\n",
    "\n",
    "- 探讨平方误差损失不适合逻辑回归的原因\n",
    "- 探索逻辑损失函数"
   ],
   "id": "26759add88df5550"
  },
  {
   "metadata": {
    "ExecuteTime": {
     "end_time": "2024-05-14T05:55:07.791389Z",
     "start_time": "2024-05-14T05:55:06.615549Z"
    }
   },
   "cell_type": "code",
   "source": [
    "import numpy as np\n",
    "%matplotlib widget\n",
    "import matplotlib.pyplot as plt\n",
    "from plt_logistic_loss import plt_logistic_cost, plt_two_logistic_loss_curves, plt_simple_example\n",
    "from plt_logistic_loss import soup_bowl, plt_logistic_squared_error\n",
    "\n",
    "plt.style.use('./deeplearning.mplstyle')"
   ],
   "id": "7cd8e7b4314122e6",
   "execution_count": 1,
   "outputs": []
  },
  {
   "metadata": {},
   "cell_type": "markdown",
   "source": [
    "## 逻辑回归的平方误差？\n",
    "\n",
    "<img align=\"left\" src=\"../../images/C1_W3_SqErrorVsLogistic.png\" style=\" width:400px; padding: 10px; \" >\n",
    "\n",
    "回想一下**线性**回归，我们使用**平方误差成本函数**：\n",
    "\n",
    "一个变量的平方误差成本的方程为：\n",
    "\n",
    "$$J(w,b)=\\frac{1}{2m}\\sum\\limits_{i=0}^{m-1}(f_{w,b}(x^{(i)})-y^{(i)})^2\\tag{1}$$\n",
    " \n",
    "在哪里\n",
    "\n",
    "$$f_{w,b}(x^{(i)})=wx^{(i)}+b\\tag{2}$$"
   ],
   "id": "7c02f33bad13fc69"
  },
  {
   "metadata": {},
   "cell_type": "markdown",
   "source": "回想一下，平方误差成本具有很好的特性，即遵循成本的导数会导致最小值。",
   "id": "f02ebd268e922747"
  },
  {
   "metadata": {
    "ExecuteTime": {
     "end_time": "2024-05-14T05:56:47.884884Z",
     "start_time": "2024-05-14T05:56:47.487137Z"
    }
   },
   "cell_type": "code",
   "source": "soup_bowl()",
   "id": "56553ffc7e2485e1",
   "execution_count": 2,
   "outputs": []
  },
  {
   "metadata": {},
   "cell_type": "markdown",
   "source": [
    "这个成本函数对于线性回归效果很好，很自然地也可以考虑将其用于逻辑回归。然而，正如上面的幻灯片所指出的，$f_{wb}(x)$现在有一个非线性分量，即Sigmoid函数：$f_{w,b}(x^{(i)})=sigmoid(wx^{(i)}+b)$。让我们在早期实验室的示例中尝试平方误差成本，现在包括Sigmoid。\n",
    "\n",
    "这是我们的训练数据："
   ],
   "id": "6e01ac676a1b3667"
  },
  {
   "metadata": {
    "ExecuteTime": {
     "end_time": "2024-05-14T05:57:41.957399Z",
     "start_time": "2024-05-14T05:57:41.914878Z"
    }
   },
   "cell_type": "code",
   "source": [
    "x_train = np.array([0., 1, 2, 3, 4, 5], dtype=np.longdouble)\n",
    "y_train = np.array([0, 0, 0, 1, 1, 1], dtype=np.longdouble)\n",
    "plt_simple_example(x_train, y_train)"
   ],
   "id": "8b061cd442a9bfc9",
   "execution_count": 3,
   "outputs": []
  },
  {
   "metadata": {},
   "cell_type": "markdown",
   "source": [
    "现在，让我们使用*平方误差成本*来绘制成本的曲面图：\n",
    "\n",
    "$$J(w,b)=\\frac{1}{2m}\\sum\\limits_{i=0}^{m-1}(f_{w,b}(x^{(i)})-y^{(i)})^2$$\n",
    " \n",
    "在哪里\n",
    "\n",
    "$$f_{w,b}(x^{(i)})=sigmoid(wx^{(i)}+b)$$"
   ],
   "id": "267367062911d0b3"
  },
  {
   "metadata": {
    "ExecuteTime": {
     "end_time": "2024-05-14T05:59:24.234619Z",
     "start_time": "2024-05-14T05:59:24.072404Z"
    }
   },
   "cell_type": "code",
   "source": [
    "plt.close('all')\n",
    "plt_logistic_squared_error(x_train, y_train)\n",
    "plt.show()"
   ],
   "id": "4b636d63096f66be",
   "execution_count": 4,
   "outputs": []
  },
  {
   "metadata": {},
   "cell_type": "markdown",
   "source": [
    "虽然这产生了一个非常有趣的图，但上面的表面并不像线性回归中的“汤碗”那么光滑！\n",
    "\n",
    "逻辑回归需要一个更适合其非线性性质的成本函数。这从损失函数开始。下面对此进行描述。"
   ],
   "id": "5ce557aee3ef8768"
  },
  {
   "metadata": {},
   "cell_type": "markdown",
   "source": [
    "## 逻辑损失函数\n",
    "\n",
    "<img align=\"left\" src=\"../../images/C1_W3_LogisticLoss_a.png\" style=\" width:250px; padding: 2px; \" >\n",
    "\n",
    "<img align=\"left\" src=\"../../images/C1_W3_LogisticLoss_b.png\" style=\" width:250px; padding: 2px; \" >\n",
    "\n",
    "<img align=\"left\" src=\"../../images/C1_W3_LogisticLoss_c.png\" style=\" width:250px; padding: 2px; \" > "
   ],
   "id": "6fc2ca38a5b49da3"
  },
  {
   "metadata": {},
   "cell_type": "markdown",
   "source": [
    "逻辑回归使用更适合目标为0或1而不是任何数字的分类任务的损失函数。\n",
    "\n",
    ">**定义注意：**在本课程中，使用这些定义：**损失**是单个示例与其目标值之间的差异的度量，而**成本**是训练集损失的衡量标准\n",
    "\n",
    "定义如下：\n",
    "\n",
    "* $loss(f_{\\mathbf{w},b}(\\mathbf{x}^{(i)}),y^{(i)})$是单个数据点的成本，即：\n",
    "\n",
    "\\begin{equation}\n",
    "  loss(f_{\\mathbf{w},b}(\\mathbf{x}^{(i)}),y^{(i)})=\\begin{cases}\n",
    "    -\\log\\left(f_{\\mathbf{w},b}\\left(\\mathbf{x}^{(i)}\\right)\\right)&\\text{if $y^{(i)}=1$}\\\\\n",
    "    -\\log\\left(1-f_{\\mathbf{w},b}\\left(\\mathbf{x}^{(i)}\\right)\\right)&\\text{if $y^{(i)}=0$}\n",
    "  \\end{cases}\n",
    "\\end{equation}\n",
    "\n",
    "* $f_{\\mathbf{w},b}(\\mathbf{x}^{(i)})$是模型的预测值，而$y^{(i)}$是目标值。\n",
    "* $f_{\\mathbf{w},b}(\\mathbf{x}^{(i)})=g(\\mathbf{w}\\cdot\\mathbf{x}^{(i)}+b)$其中函数$g$是sigmoid函数。\n",
    "\n",
    "该损失函数的定义特征是它使用两条单独的曲线。一种用于目标为零或（$y=0$）的情况，另一种用于目标为1（$y=1$）的情况。结合起来，这些曲线提供了对损失函数有用的行为，即当预测与目标匹配时为零，并且当预测与目标不同时其值迅速增加。考虑下面的曲线："
   ],
   "id": "faaa97678c4466a5"
  },
  {
   "metadata": {
    "ExecuteTime": {
     "end_time": "2024-05-14T06:06:01.114215Z",
     "start_time": "2024-05-14T06:06:00.983582Z"
    }
   },
   "cell_type": "code",
   "source": "plt_two_logistic_loss_curves()",
   "id": "ef8873e52da31cd8",
   "execution_count": 5,
   "outputs": []
  },
  {
   "metadata": {},
   "cell_type": "markdown",
   "source": "组合起来，这些曲线类似于平方误差损失的二次曲线。注意，x轴是$f_{\\mathbf{w},b}$，它是sigmoid的输出。sigmoid输出严格介于0和1之间。",
   "id": "99bcadf0466872e"
  },
  {
   "metadata": {},
   "cell_type": "markdown",
   "source": [
    "上面的损失函数可以重写以更容易实现。\n",
    "\n",
    "$$loss(f_{\\mathbf{w},b}(\\mathbf{x}^{(i)}), y^{(i)})=(-y^{(i)}\\log\\left(f_{\\mathbf{w},b}\\left(\\mathbf{x}^{(i)}\\right)\\right)-\\left(1-y^{(i)}\\right)\\log\\left(1-f_{\\mathbf{w},b}\\left( \\mathbf{x}^{(i)}\\right)\\right)$$\n",
    "  \n",
    "这是一个看起来相当艰巨的方程。当您考虑到$y^{(i)}$只能有两个值0和1时，就不那么令人畏惧了。然后可以将方程分成两部分：\n",
    "\n",
    "当$y^{(i)}=0$时，左边项被消除：\n",
    "\n",
    "$$\n",
    "\\begin{align}\n",
    "loss(f_{\\mathbf{w},b}(\\mathbf{x}^{(i)}),0)&=(-(0)\\log\\left(f_{\\mathbf{w},b}\\left(\\mathbf{x}^{(i)}\\right)\\right)-\\left(1-0\\right)\\log\\left(1-f_{\\mathbf{w},b}\\left(\\mathbf{x}^{(i)}\\right)\\right)\\\\\n",
    "&=-\\log\\left(1-f_{\\mathbf{w},b}\\left(\\mathbf{x}^{(i)}\\right)\\right)\n",
    "\\end{align}\n",
    "$$\n",
    "\n",
    "当$y^{(i)}=1$时，右边项被消去：\n",
    "\n",
    "$$\n",
    "\\begin{align}\n",
    "  loss(f_{\\mathbf{w},b}(\\mathbf{x}^{(i)}), 1) &=  (-(1) \\log\\left(f_{\\mathbf{w},b}\\left( \\mathbf{x}^{(i)} \\right) \\right) - \\left( 1 - 1\\right) \\log \\left( 1 - f_{\\mathbf{w},b}\\left( \\mathbf{x}^{(i)} \\right) \\right)\\\\\n",
    "  &=  -\\log\\left(f_{\\mathbf{w},b}\\left( \\mathbf{x}^{(i)} \\right) \\right)\n",
    "\\end{align}\n",
    "$$\n",
    "\n",
    "好的，通过这个新的逻辑损失函数，可以生成一个包含所有示例损失的成本函数。这将是下一个实验室的主题。现在，让我们看一下上面考虑的简单示例的成本与参数曲线："
   ],
   "id": "121f6b36b48f36e8"
  },
  {
   "metadata": {
    "ExecuteTime": {
     "end_time": "2024-05-14T06:09:11.608174Z",
     "start_time": "2024-05-14T06:09:11.399999Z"
    }
   },
   "cell_type": "code",
   "source": [
    "plt.close('all')\n",
    "cst = plt_logistic_cost(x_train, y_train)"
   ],
   "id": "103cbbbb01338f27",
   "execution_count": 6,
   "outputs": []
  },
  {
   "metadata": {},
   "cell_type": "markdown",
   "source": "这条曲线非常适合梯度下降！它没有平台、局部最小值或不连续性。请注意，它不是平方误差情况下的碗。绘制成本和成本对数是为了说明这样一个事实：当成本较小时，曲线具有斜率并持续下降。提醒：您可以使用鼠标旋转上面的图。",
   "id": "22a71012b660909e"
  },
  {
   "metadata": {},
   "cell_type": "markdown",
   "source": [
    "## 恭喜！\n",
    "\n",
    "你有：\n",
    "\n",
    "- 确定平方误差损失函数不适合分类任务\n",
    "- 开发并检查了**适合**分类任务的逻辑损失函数。"
   ],
   "id": "b23881c0ceb443d3"
  }
 ],
 "metadata": {
  "kernelspec": {
   "display_name": "Python 3",
   "language": "python",
   "name": "python3"
  },
  "language_info": {
   "codemirror_mode": {
    "name": "ipython",
    "version": 2
   },
   "file_extension": ".py",
   "mimetype": "text/x-python",
   "name": "python",
   "nbconvert_exporter": "python",
   "pygments_lexer": "ipython2",
   "version": "2.7.6"
  }
 },
 "nbformat": 4,
 "nbformat_minor": 5
}
