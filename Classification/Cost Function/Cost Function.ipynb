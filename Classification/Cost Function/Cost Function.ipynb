{
 "cells": [
  {
   "metadata": {},
   "cell_type": "markdown",
   "source": [
    "# 可选实验：逻辑回归的成本函数\n",
    "\n",
    "## 目标\n",
    "\n",
    "在本实验室中，您将：\n",
    "\n",
    "- 检查实施并利用逻辑回归的成本函数。"
   ],
   "id": "dd7d1a3bf9258a18"
  },
  {
   "metadata": {
    "ExecuteTime": {
     "end_time": "2024-05-14T06:18:00.908837Z",
     "start_time": "2024-05-14T06:17:59.865898Z"
    }
   },
   "cell_type": "code",
   "source": [
    "import numpy as np\n",
    "%matplotlib widget\n",
    "import matplotlib.pyplot as plt\n",
    "from lab_utils_common import plot_data, sigmoid, dlc\n",
    "\n",
    "plt.style.use('./deeplearning.mplstyle')"
   ],
   "id": "4badf5862d53de17",
   "execution_count": 1,
   "outputs": []
  },
  {
   "metadata": {},
   "cell_type": "markdown",
   "source": [
    "## 数据集\n",
    "\n",
    "让我们从决策边界实验室中使用的相同数据集开始。"
   ],
   "id": "1a5a239857c0422a"
  },
  {
   "metadata": {
    "ExecuteTime": {
     "end_time": "2024-05-14T06:18:42.966966Z",
     "start_time": "2024-05-14T06:18:42.949464Z"
    }
   },
   "cell_type": "code",
   "source": [
    "X_train = np.array([[0.5, 1.5], [1, 1], [1.5, 0.5], [3, 0.5], [2, 2], [1, 2.5]])\n",
    "y_train = np.array([0, 0, 0, 1, 1, 1])"
   ],
   "id": "820fef46d40db673",
   "execution_count": 2,
   "outputs": []
  },
  {
   "metadata": {},
   "cell_type": "markdown",
   "source": "我们将使用辅助函数来绘制这些数据。标签$y=1$的数据点显示为红色十字，而标签$y=0$的数据点显示为蓝色圆圈。",
   "id": "f033b9628b45e4b9"
  },
  {
   "metadata": {
    "ExecuteTime": {
     "end_time": "2024-05-14T06:19:12.646514Z",
     "start_time": "2024-05-14T06:19:12.418822Z"
    }
   },
   "cell_type": "code",
   "source": [
    "fig, ax = plt.subplots(1, 1, figsize=(4, 4))\n",
    "plot_data(X_train, y_train, ax)\n",
    "ax.axis([0, 4, 0, 3.5])\n",
    "ax.set_ylabel('$x_1$', fontsize=12)\n",
    "ax.set_xlabel('$x_0$', fontsize=12)\n",
    "plt.show()"
   ],
   "id": "20d8f7979d43426b",
   "execution_count": 3,
   "outputs": []
  },
  {
   "metadata": {},
   "cell_type": "markdown",
   "source": [
    "## 成本函数\n",
    "\n",
    "在之前的实验中，您开发了*逻辑损失*函数。回想一下，损失的定义适用于一个例子。在这里，您将损失合并起来形成**成本**，其中包括所有示例。\n",
    "\n",
    "回想一下，对于逻辑回归，成本函数的形式为\n",
    "\n",
    "$$J(\\mathbf{w},b)=\\frac{1}{m}\\sum_{i=0}^{m-1}\\left[loss(f_{\\mathbf{w},b}(\\mathbf{x}^{(i)}),y^{(i)})\\right]\\tag{1}$$\n",
    "\n",
    "在哪里\n",
    "\n",
    "* $loss(f_{\\mathbf{w},b}(\\mathbf{x}^{(i)}),y^{(i)})$是单个数据点的成本，即：\n",
    "\n",
    "  $$loss(f_{\\mathbf{w},b}(\\mathbf{x}^{(i)}),y^{(i)})=-y^{(i)}\\log\\left(f_{\\mathbf{w},b}\\left(\\mathbf{x}^{(i)}\\right)\\right)-\\left(1-y^{(i)}\\right)\\log\\left(1-f_{\\mathbf{w},b}\\left(\\mathbf{x}^{(i)}\\right)\\right)\\tag{2}$$\n",
    "    \n",
    "* 其中m是数据集中训练样本的数量，并且：\n",
    "  \n",
    "  $$\n",
    "  \\begin{align}\n",
    "    f_{\\mathbf{w},b}(\\mathbf{x^{(i)}}) &= g(z^{(i)})\\tag{3} \\\\\n",
    "    z^{(i)} &= \\mathbf{w} \\cdot \\mathbf{x}^{(i)}+ b\\tag{4} \\\\\n",
    "    g(z^{(i)}) &= \\frac{1}{1+e^{-z^{(i)}}}\\tag{5} \n",
    "  \\end{align}\n",
    "  $$"
   ],
   "id": "e6dd4fe61d5291f8"
  },
  {
   "metadata": {},
   "cell_type": "markdown",
   "source": [
    "#### 代码说明\n",
    "\n",
    "`compute_cost_logistic`算法循环遍历所有示例，计算每个示例求和的损失。\n",
    "\n",
    "请注意，变量X和y不是标量值，而是形状分别为`(m, n)`和`(m,)`的矩阵，其中$𝑛$是特征数量，$𝑚$是训练样本数量。"
   ],
   "id": "634db04fbec0706c"
  },
  {
   "metadata": {
    "ExecuteTime": {
     "end_time": "2024-05-14T06:28:03.081465Z",
     "start_time": "2024-05-14T06:28:03.067459Z"
    }
   },
   "cell_type": "code",
   "source": [
    "def compute_cost_logistic(X, y, w, b):\n",
    "    m = X.shape[0]\n",
    "    cost = 0.0\n",
    "    for i in range(m):\n",
    "        z_i = np.dot(X[i], w) + b\n",
    "        f_wb_i = sigmoid(z_i)\n",
    "        cost += -y[i] * np.log(f_wb_i) - (1 - y[i]) * np.log(1 - f_wb_i)\n",
    "    cost = cost / m\n",
    "    return cost"
   ],
   "id": "3ba49caff8ee4772",
   "execution_count": 4,
   "outputs": []
  },
  {
   "metadata": {},
   "cell_type": "markdown",
   "source": "使用下面的单元格检查成本函数的实现。",
   "id": "b245b157ba304660"
  },
  {
   "metadata": {
    "ExecuteTime": {
     "end_time": "2024-05-14T06:28:27.134069Z",
     "start_time": "2024-05-14T06:28:27.127988Z"
    }
   },
   "cell_type": "code",
   "source": [
    "w_tmp = np.array([1, 1])\n",
    "b_tmp = -3\n",
    "print(compute_cost_logistic(X_train, y_train, w_tmp, b_tmp))"
   ],
   "id": "6185816adbfdd64c",
   "execution_count": 5,
   "outputs": []
  },
  {
   "metadata": {},
   "cell_type": "markdown",
   "source": "**预期输出**：0.3668667864055175",
   "id": "e51793a8ef332556"
  },
  {
   "metadata": {},
   "cell_type": "markdown",
   "source": [
    "## 例子\n",
    "\n",
    "现在，让我们看看不同$w$值的成本函数输出是什么。\n",
    "\n",
    "* 在之前的实验中，您绘制了$b=-3,w_0=1,w_1=1$的决策边界。也就是说，你有`w = np.array([-3,1,1])`。\n",
    "* 假设您想查看$b=-4,w_0=1,w_1=1$或`w=np.array([-4,1,1])`是否提供了更好的模型。\n",
    "\n",
    "我们首先绘制这两个不同$b$值的决策边界，看看哪一个更适合数据。\n",
    "\n",
    "* 对于$b=-3,w_0=1,w_1=1$，我们将绘制$-3+x_0+x_1=0$（以蓝色显示）\n",
    "* 对于$b=-4,w_0=1,w_1=1$，我们将绘制$-4+x_0+x_1=0$（以洋红色显示）"
   ],
   "id": "bb8c70fdb74d2caf"
  },
  {
   "metadata": {
    "ExecuteTime": {
     "end_time": "2024-05-14T06:31:21.783750Z",
     "start_time": "2024-05-14T06:31:21.704709Z"
    }
   },
   "cell_type": "code",
   "source": [
    "import matplotlib.pyplot as plt\n",
    "\n",
    "x0 = np.arange(0, 6)\n",
    "x1 = 3 - x0\n",
    "x1_other = 4 - x0\n",
    "fig, ax = plt.subplots(1, 1, figsize=(4, 4))\n",
    "ax.plot(x0, x1, c=dlc[\"dlblue\"], label=\"$b$=-3\")\n",
    "ax.plot(x0, x1_other, c=dlc[\"dlmagenta\"], label=\"$b$=-4\")\n",
    "ax.axis([0, 4, 0, 4])\n",
    "plot_data(X_train, y_train, ax)\n",
    "ax.axis([0, 4, 0, 4])\n",
    "ax.set_ylabel('$x_1$', fontsize=12)\n",
    "ax.set_xlabel('$x_0$', fontsize=12)\n",
    "plt.legend(loc=\"upper right\")\n",
    "plt.title(\"Decision Boundary\")\n",
    "plt.show()"
   ],
   "id": "e24a499489e1738a",
   "execution_count": 6,
   "outputs": []
  },
  {
   "metadata": {},
   "cell_type": "markdown",
   "source": "从该图中可以看出，`w = np.array([-4,1,1])`对于训练数据来说是一个更差的模型。让我们看看成本函数的实现是否反映了这一点。",
   "id": "bd882bd86c89c75e"
  },
  {
   "metadata": {
    "ExecuteTime": {
     "end_time": "2024-05-14T06:33:29.746450Z",
     "start_time": "2024-05-14T06:33:29.728436Z"
    }
   },
   "cell_type": "code",
   "source": [
    "w_array1 = np.array([1, 1])\n",
    "b_1 = -3\n",
    "w_array2 = np.array([1, 1])\n",
    "b_2 = -4\n",
    "print(\"Cost for b = -3 : \", compute_cost_logistic(X_train, y_train, w_array1, b_1))\n",
    "print(\"Cost for b = -4 : \", compute_cost_logistic(X_train, y_train, w_array2, b_2))"
   ],
   "id": "6a6efef01bd7fea3",
   "execution_count": 7,
   "outputs": []
  },
  {
   "metadata": {},
   "cell_type": "markdown",
   "source": [
    "**预期输出**\n",
    "\n",
    "Cost for b = -3 :  0.3668667864055175\n",
    "\n",
    "Cost for b = -4 :  0.5036808636748461\n",
    "\n",
    "您可以看到成本函数的行为符合预期，并且`w = np.array([-4,1,1])`的成本确实高于`w = np.array([-3,1, 1])`"
   ],
   "id": "8913098fedcbc348"
  },
  {
   "metadata": {},
   "cell_type": "markdown",
   "source": [
    "## 恭喜！\n",
    "\n",
    "在本实验中，您检查并利用了逻辑回归的成本函数。"
   ],
   "id": "c3630cbd7073c559"
  }
 ],
 "metadata": {
  "kernelspec": {
   "display_name": "Python 3",
   "language": "python",
   "name": "python3"
  },
  "language_info": {
   "codemirror_mode": {
    "name": "ipython",
    "version": 2
   },
   "file_extension": ".py",
   "mimetype": "text/x-python",
   "name": "python",
   "nbconvert_exporter": "python",
   "pygments_lexer": "ipython2",
   "version": "2.7.6"
  }
 },
 "nbformat": 4,
 "nbformat_minor": 5
}
