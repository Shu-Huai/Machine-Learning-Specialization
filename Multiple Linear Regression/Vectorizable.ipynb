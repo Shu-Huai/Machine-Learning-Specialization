{
 "cells": [
  {
   "cell_type": "markdown",
   "metadata": {},
   "source": [
    "# 可选实验室：Python、NumPy和矢量化\n",
    "\n",
    "简要介绍本课程中使用的一些科学计算。 特别是NumPy科学计算包及其与Python的使用。\n",
    "\n",
    "# 概要\n",
    "\n",
    "- [&nbsp;&nbsp;1.1 目标]()\n",
    "- [&nbsp;&nbsp;1.2 有用的参考资料]()\n",
    "- [2 Python和NumPy]()\n",
    "- [3 向量]()\n",
    "- [&nbsp;&nbsp;3.1 摘要]()\n",
    "- [&nbsp;&nbsp;3.2 NumPy数组]()\n",
    "- [&nbsp;&nbsp;3.3 矢量创建]()\n",
    "- [&nbsp;&nbsp;3.4 向量运算]()\n",
    "- [4 矩阵]()\n",
    "- [&nbsp;&nbsp;4.1 摘要]()\n",
    "- [&nbsp;&nbsp;4.2 NumPy数组]()\n",
    "- [&nbsp;&nbsp;4.3 矩阵创建]()\n",
    "- [&nbsp;&nbsp;4.4 矩阵运算]()\n"
   ]
  },
  {
   "cell_type": "code",
   "metadata": {
    "ExecuteTime": {
     "end_time": "2024-05-12T03:19:30.956614Z",
     "start_time": "2024-05-12T03:19:30.605572Z"
    }
   },
   "source": [
    "import numpy as np\n",
    "import time"
   ],
   "outputs": [],
   "execution_count": 1
  },
  {
   "cell_type": "markdown",
   "metadata": {},
   "source": [
    "<a name=\"toc_40015_1.1\"></a>\n",
    "## 1.1 目标\n",
    "\n",
    "在本实验室中，您将\n",
    "\n",
    "- 回顾课程1中使用的NumPy和Python功能"
   ]
  },
  {
   "cell_type": "markdown",
   "metadata": {},
   "source": [
    "## 1.2 有用的参考资料\n",
    "\n",
    "- NumPy文档，包括基本介绍：[NumPy.org](https://NumPy.org/doc/stable/)\n",
    "- 具有挑战性的功能主题：[NumPy广播](https://NumPy.org/doc/stable/user/basics.broadcasting.html)\n"
   ]
  },
  {
   "cell_type": "markdown",
   "metadata": {},
   "source": [
    "# 2 Python和NumPy\n",
    "\n",
    "Python是我们将在本课程中使用的编程语言。它有一组数字数据类型和算术运算。NumPy是一个库，它扩展了Python的基本功能，增加了更丰富的数据集，包括更多的数值类型、向量、矩阵和许多矩阵函数。NumPy和Python可以无缝协作。Python算术运算符可用于NumPy数据类型，许多NumPy函数也可接受Python数据类型。\n"
   ]
  },
  {
   "cell_type": "markdown",
   "metadata": {},
   "source": [
    "# 3 向量\n",
    "\n",
    "## 3.1 摘要\n",
    "\n",
    "<img src=\"../images/C1_W2_Lab04_Vectors.PNG\" style=\"width:340px;\" >\n",
    "\n",
    "在本课程中使用的矢量是有序的数组。在符号中，向量用小写粗体字母表示，如$\\mathbf{x}$。 向量的元素类型相同。例如，一个向量不会同时包含字符和数字。数组中元素的个数通常称为*维数*，但数学家可能更喜欢*秩数*。所示向量的维数为$n$。向量中的元素可以通过索引来引用。在数学环境中，索引通常从1到n。在计算机科学和这些实验室中，索引通常从0到n-1。例如，$0^{th}$的元素是$x_0$。注意，这里的x不是粗体。"
   ]
  },
  {
   "cell_type": "markdown",
   "metadata": {},
   "source": [
    "## 3.2 NumPy数组\n",
    "\n",
    "NumPy的基本数据结构是一个可索引的n维*数组*，包含相同类型（`dtype`）的元素。首先，你可能会注意到我们重载了“维度”一词。在上面，维度指的是向量中元素的个数，而在这里，维度指的是数组的索引个数。一维或一维数组只有一个索引。在课程1中，我们将用 NumPy一维数组来表示向量。\n",
    "\n",
    " - 一维数组，形状(n,)：n个索引为[0]到[n-1]的元素"
   ]
  },
  {
   "cell_type": "markdown",
   "metadata": {},
   "source": "## 3.3 矢量创建"
  },
  {
   "cell_type": "markdown",
   "metadata": {},
   "source": "NumPy中的数据创建例程通常会有一个第一个参数，即对象的形状。它既可以是一维结果的单个值，也可以是指定结果形状的元组（n,m,...）。下面是使用这些例程创建向量的示例。"
  },
  {
   "cell_type": "code",
   "metadata": {
    "ExecuteTime": {
     "end_time": "2024-05-12T04:17:30.023077Z",
     "start_time": "2024-05-12T04:17:30.012067Z"
    }
   },
   "source": [
    "a = np.zeros(4)\n",
    "print(f\"np.zeros(4): a = {a}, a shape = {a.shape}, a data type = {a.dtype}\")\n",
    "a = np.zeros((4,))\n",
    "print(f\"np.zeros(4,): a = {a}, a shape = {a.shape}, a data type = {a.dtype}\")\n",
    "a = np.random.random_sample((4,))\n",
    "print(f\"np.random.random_sample(4, 5): a = {a}, a shape = {a.shape}, a data type = {a.dtype}\")"
   ],
   "outputs": [
    {
     "name": "stdout",
     "output_type": "stream",
     "text": [
      "np.zeros(4): a = [0. 0. 0. 0.], a shape = (4,), a data type = float64\n",
      "np.zeros(4,): a = [0. 0. 0. 0.], a shape = (4,), a data type = float64\n",
      "np.random.random_sample(4, 5): a = [0.5792328  0.53516563 0.80204309 0.24814448], a shape = (4,), a data type = float64\n"
     ]
    }
   ],
   "execution_count": 34
  },
  {
   "cell_type": "markdown",
   "metadata": {},
   "source": "某些数据创建例程不使用形状元组："
  },
  {
   "cell_type": "code",
   "metadata": {
    "ExecuteTime": {
     "end_time": "2024-05-12T03:22:56.462559Z",
     "start_time": "2024-05-12T03:22:56.445054Z"
    }
   },
   "source": [
    "a = np.arange(4.)\n",
    "print(f\"np.arange(4.): a = {a}, a shape = {a.shape}, a data type = {a.dtype}\")\n",
    "a = np.random.rand(4)\n",
    "print(f\"np.random.rand(4): a = {a}, a shape = {a.shape}, a data type = {a.dtype}\")"
   ],
   "outputs": [
    {
     "name": "stdout",
     "output_type": "stream",
     "text": [
      "np.arange(4.): a = [0. 1. 2. 3.], a shape = (4,), a data type = float64\n",
      "np.random.rand(4): a = [0.43901866 0.4458103  0.84685863 0.62109871], a shape = (4,), a data type = float64\n"
     ]
    }
   ],
   "execution_count": 9
  },
  {
   "cell_type": "markdown",
   "metadata": {},
   "source": "值也可以手动指定。"
  },
  {
   "cell_type": "code",
   "metadata": {
    "ExecuteTime": {
     "end_time": "2024-05-12T03:25:10.109817Z",
     "start_time": "2024-05-12T03:25:10.098306Z"
    }
   },
   "source": [
    "a = np.array([5, 4, 3, 2])\n",
    "print(f\"np.array([5, 4, 3, 2]): a = {a}, a shape = {a.shape}, a data type = {a.dtype}\")\n",
    "a = np.array([5., 4, 3, 2])\n",
    "print(f\"np.array([5., 4, 3, 2]): a = {a}, a shape = {a.shape}, a data type = {a.dtype}\")"
   ],
   "outputs": [
    {
     "name": "stdout",
     "output_type": "stream",
     "text": [
      "np.array([5, 4, 3, 2]): a = [5 4 3 2], a shape = (4,), a data type = int32\n",
      "np.array([5., 4, 3, 2]): a = [5. 4. 3. 2.], a shape = (4,), a data type = float64\n"
     ]
    }
   ],
   "execution_count": 15
  },
  {
   "cell_type": "markdown",
   "metadata": {},
   "source": "这些都创建了一个包含四个元素的一维向量`a`。`a.shape`返回维数。这里我们看到`a.shape = (4,)`表示一个有4个元素的一维数组。 "
  },
  {
   "cell_type": "markdown",
   "metadata": {},
   "source": [
    "## 3.4 向量运算\n",
    "\n",
    "让我们探索一些使用向量的操作。\n",
    "\n",
    "### 3.4.1 索引\n",
    "\n",
    "向量的元素可以通过索引和切片来访问。NumPy提供了一套非常完整的索引和切片功能。我们将仅探讨本课程所需的基础知识。有关更多详细信息，请参阅[切片和索引](https://NumPy.org/doc/stable/reference/arrays.indexing.html)。\n",
    "\n",
    "**索引**意味着通过数组中的位置来引用数组的*元素*。\n",
    "\n",
    "**切片**意味着根据索引从数组中获取元素的*子集*。\n",
    "\n",
    "NumPy从零开始索引，因此向量$\\mathbf{a}$的第三个元素是`a[2]`。"
   ]
  },
  {
   "cell_type": "code",
   "metadata": {
    "ExecuteTime": {
     "end_time": "2024-05-12T03:32:34.545093Z",
     "start_time": "2024-05-12T03:32:34.538593Z"
    }
   },
   "source": [
    "a = np.arange(10)\n",
    "print(a)\n",
    "print(f\"a[2].shape: {a[2].shape} a[2]  = {a[2]}, Accessing an element returns a scalar\")\n",
    "print(f\"a[-1] = {a[-1]}\")\n",
    "try:\n",
    "    c = a[10]\n",
    "except Exception as e:\n",
    "    print(\"The error message you'll see is:\")\n",
    "    print(e)"
   ],
   "outputs": [
    {
     "name": "stdout",
     "output_type": "stream",
     "text": [
      "[0 1 2 3 4 5 6 7 8 9]\n",
      "a[2].shape: () a[2]  = 2, Accessing an element returns a scalar\n",
      "a[-1] = 9\n",
      "The error message you'll see is:\n",
      "index 10 is out of bounds for axis 0 with size 10\n"
     ]
    }
   ],
   "execution_count": 17
  },
  {
   "cell_type": "markdown",
   "metadata": {},
   "source": [
    "### 3.4.2 切片\n",
    "\n",
    "切片使用一组三个值（`start:stop:step`）创建一个索引数组。值的子集也是有效的。它的使用最好通过示例来解释："
   ]
  },
  {
   "cell_type": "code",
   "metadata": {
    "ExecuteTime": {
     "end_time": "2024-05-12T03:34:40.184737Z",
     "start_time": "2024-05-12T03:34:40.175730Z"
    }
   },
   "source": [
    "a = np.arange(10)\n",
    "print(f\"a        =  {a}\")\n",
    "c = a[2:7:1]\n",
    "print(\"a[2:7:1] = \", c)\n",
    "c = a[2:7:2]\n",
    "print(\"a[2:7:2] = \", c)\n",
    "c = a[3:]\n",
    "print(\"a[3:]    = \", c)\n",
    "c = a[:3]\n",
    "print(\"a[:3]    = \", c)\n",
    "c = a[:]\n",
    "print(\"a[:]     = \", c)"
   ],
   "outputs": [
    {
     "name": "stdout",
     "output_type": "stream",
     "text": [
      "a        =  [0 1 2 3 4 5 6 7 8 9]\n",
      "a[2:7:1] =  [2 3 4 5 6]\n",
      "a[2:7:2] =  [2 4 6]\n",
      "a[3:]    =  [3 4 5 6 7 8 9]\n",
      "a[:3]    =  [0 1 2]\n",
      "a[:]     =  [0 1 2 3 4 5 6 7 8 9]\n"
     ]
    }
   ],
   "execution_count": 21
  },
  {
   "cell_type": "markdown",
   "metadata": {},
   "source": [
    "### 3.4.3 单向量运算\n",
    "\n",
    "有许多有用的操作涉及对单个向量的操作。"
   ]
  },
  {
   "cell_type": "code",
   "metadata": {
    "ExecuteTime": {
     "end_time": "2024-05-12T03:36:11.243531Z",
     "start_time": "2024-05-12T03:36:11.226284Z"
    }
   },
   "source": [
    "a = np.array([1, 2, 3, 4])\n",
    "print(f\"a             : {a}\")\n",
    "b = -a\n",
    "print(f\"b = -a        : {b}\")\n",
    "b = np.sum(a)\n",
    "print(f\"b = np.sum(a) : {b}\")\n",
    "b = np.mean(a)\n",
    "print(f\"b = np.mean(a): {b}\")\n",
    "b = a ** 2\n",
    "print(f\"b = a**2      : {b}\")"
   ],
   "outputs": [
    {
     "name": "stdout",
     "output_type": "stream",
     "text": [
      "a             : [1 2 3 4]\n",
      "b = -a        : [-1 -2 -3 -4]\n",
      "b = np.sum(a) : 10\n",
      "b = np.mean(a): 2.5\n",
      "b = a**2      : [ 1  4  9 16]\n"
     ]
    }
   ],
   "execution_count": 22
  },
  {
   "cell_type": "markdown",
   "metadata": {},
   "source": [
    "### 3.4.4 向量向量逐元素运算\n",
    "\n",
    "大多数NumPy算术、逻辑和比较运算也适用于向量。这些运算符在逐个元素的基础上工作。例如\n",
    "\n",
    "$$ \\mathbf{a} + \\mathbf{b} = \\sum_{i=0}^{n-1} a_i + b_i $$"
   ]
  },
  {
   "cell_type": "code",
   "metadata": {
    "ExecuteTime": {
     "end_time": "2024-05-12T03:39:48.758567Z",
     "start_time": "2024-05-12T03:39:48.740044Z"
    }
   },
   "source": [
    "a = np.array([1, 2, 3, 4])\n",
    "b = np.array([-1, -2, 3, 4])\n",
    "print(f\"Binary operators work element wise: {a + b}\")"
   ],
   "outputs": [
    {
     "name": "stdout",
     "output_type": "stream",
     "text": [
      "Binary operators work element wise: [0 0 6 8]\n"
     ]
    }
   ],
   "execution_count": 23
  },
  {
   "cell_type": "markdown",
   "metadata": {},
   "source": "当然，为了使其正常工作，向量必须具有相同的大小："
  },
  {
   "cell_type": "code",
   "metadata": {
    "ExecuteTime": {
     "end_time": "2024-05-12T03:41:13.270771Z",
     "start_time": "2024-05-12T03:41:13.257764Z"
    }
   },
   "source": [
    "c = np.array([1, 2])\n",
    "try:\n",
    "    d = a + c\n",
    "except Exception as e:\n",
    "    print(\"The error message you'll see is:\")\n",
    "    print(e)"
   ],
   "outputs": [
    {
     "name": "stdout",
     "output_type": "stream",
     "text": [
      "The error message you'll see is:\n",
      "operands could not be broadcast together with shapes (4,) (2,) \n"
     ]
    }
   ],
   "execution_count": 24
  },
  {
   "cell_type": "markdown",
   "metadata": {},
   "source": [
    "### 3.4.5 标量向量运算\n",
    "\n",
    "向量可以按标量值“缩放”。标量值只是一个数字。标量乘以向量的所有元素。"
   ]
  },
  {
   "cell_type": "code",
   "metadata": {
    "ExecuteTime": {
     "end_time": "2024-05-12T03:41:36.981089Z",
     "start_time": "2024-05-12T03:41:36.966082Z"
    }
   },
   "source": [
    "a = np.array([1, 2, 3, 4])\n",
    "b = 5 * a\n",
    "print(f\"b = 5 * a : {b}\")"
   ],
   "outputs": [
    {
     "name": "stdout",
     "output_type": "stream",
     "text": [
      "b = 5 * a : [ 5 10 15 20]\n"
     ]
    }
   ],
   "execution_count": 25
  },
  {
   "cell_type": "markdown",
   "metadata": {},
   "source": [
    "### 3.4.6 向量向量点积\n",
    "\n",
    "点积是线性代数和NumPy的支柱。这是本课程中广泛使用的操作，应该很好理解。点积如下所示。\n",
    "\n",
    "<img src=\"../images/C1_W2_Lab04_dot_notrans.gif\" width=800> "
   ]
  },
  {
   "cell_type": "markdown",
   "metadata": {},
   "source": [
    "点积将两个向量中的值按元素相乘，然后将结果相加。\n",
    "\n",
    "向量点积要求两个向量的维度相同。"
   ]
  },
  {
   "cell_type": "markdown",
   "metadata": {},
   "source": [
    "让我们实现下面我们自己的点积版本：\n",
    "\n",
    "**使用for循环**，实现一个返回两个向量的点积的函数。返回给定输入$a$和$b$的函数：\n",
    "\n",
    "$$x=\\sum_{i=0}^{n-1} a_i b_i$$\n",
    "\n",
    "假设`a`和`b`是相同的形状。"
   ]
  },
  {
   "cell_type": "code",
   "metadata": {
    "ExecuteTime": {
     "end_time": "2024-05-12T03:52:08.320200Z",
     "start_time": "2024-05-12T03:52:08.314193Z"
    }
   },
   "source": [
    "def my_dot(a, b):\n",
    "    x = 0\n",
    "    for i in range(a.shape[0]):\n",
    "        x = x + a[i] * b[i]\n",
    "    return x"
   ],
   "outputs": [],
   "execution_count": 27
  },
  {
   "cell_type": "code",
   "metadata": {
    "ExecuteTime": {
     "end_time": "2024-05-12T03:52:09.740904Z",
     "start_time": "2024-05-12T03:52:09.731900Z"
    }
   },
   "source": [
    "a = np.array([1, 2, 3, 4])\n",
    "b = np.array([-1, 4, 3, 2])\n",
    "print(f\"my_dot(a, b) = {my_dot(a, b)}\")"
   ],
   "outputs": [
    {
     "name": "stdout",
     "output_type": "stream",
     "text": [
      "my_dot(a, b) = 24\n"
     ]
    }
   ],
   "execution_count": 28
  },
  {
   "cell_type": "markdown",
   "metadata": {},
   "source": [
    "请注意，点积预计返回标量值。\n",
    "\n",
    "让我们使用`np.dot`尝试相同的操作。"
   ]
  },
  {
   "cell_type": "code",
   "metadata": {
    "ExecuteTime": {
     "end_time": "2024-05-12T03:53:07.868614Z",
     "start_time": "2024-05-12T03:53:07.859615Z"
    }
   },
   "source": [
    "a = np.array([1, 2, 3, 4])\n",
    "b = np.array([-1, 4, 3, 2])\n",
    "c = np.dot(a, b)\n",
    "print(f\"NumPy 1-D np.dot(a, b) = {c}, np.dot(a, b).shape = {c.shape} \")\n",
    "c = np.dot(b, a)\n",
    "print(f\"NumPy 1-D np.dot(b, a) = {c}, np.dot(a, b).shape = {c.shape} \")\n"
   ],
   "outputs": [
    {
     "name": "stdout",
     "output_type": "stream",
     "text": [
      "NumPy 1-D np.dot(a, b) = 24, np.dot(a, b).shape = () \n",
      "NumPy 1-D np.dot(b, a) = 24, np.dot(a, b).shape = () \n"
     ]
    }
   ],
   "execution_count": 29
  },
  {
   "cell_type": "markdown",
   "metadata": {},
   "source": "在上面，您会注意到一维的结果与我们的实现相匹配。"
  },
  {
   "cell_type": "markdown",
   "metadata": {},
   "source": [
    "### 3.4.7 对速度的需求：向量与for循环\n",
    "\n",
    "我们使用NumPy库是因为它提高了速度和内存效率。让我们来演示一下："
   ]
  },
  {
   "cell_type": "code",
   "metadata": {
    "ExecuteTime": {
     "end_time": "2024-05-12T03:54:36.758756Z",
     "start_time": "2024-05-12T03:54:35.343270Z"
    }
   },
   "source": [
    "np.random.seed(1)\n",
    "a = np.random.rand(10000000)\n",
    "b = np.random.rand(10000000)\n",
    "tic = time.time()\n",
    "c = np.dot(a, b)\n",
    "toc = time.time()\n",
    "print(f\"np.dot(a, b) =  {c:.4f}\")\n",
    "print(f\"Vectorized version duration: {1000 * (toc - tic):.4f} ms \")\n",
    "tic = time.time()\n",
    "c = my_dot(a, b)\n",
    "toc = time.time()\n",
    "print(f\"my_dot(a, b) =  {c:.4f}\")\n",
    "print(f\"loop version duration: {1000 * (toc - tic):.4f} ms \")\n",
    "del a\n",
    "del b"
   ],
   "outputs": [
    {
     "name": "stdout",
     "output_type": "stream",
     "text": [
      "np.dot(a, b) =  2501072.5817\n",
      "Vectorized version duration: 5.9998 ms \n",
      "my_dot(a, b) =  2501072.5817\n",
      "loop version duration: 1312.5708 ms \n"
     ]
    }
   ],
   "execution_count": 31
  },
  {
   "cell_type": "markdown",
   "metadata": {},
   "source": "因此，在这个例子中，矢量化大大提高了速度。这是因为NumPy能更好地利用底层硬件中的可用数据并行性。GPU和现代CPU采用单指令、多数据（SIMD）流水线，允许并行发布多个操作。这在机器学习中至关重要，因为机器学习的数据集通常非常庞大。"
  },
  {
   "cell_type": "markdown",
   "metadata": {},
   "source": [
    "### 3.4.8 课程1中的向量向量运算\n",
    "\n",
    "向量向量运算在课程1中会经常出现。原因如下：\n",
    "\n",
    "- 今后，我们的示例将存储在一个维数为(m,n)的数组`X_train`中。这将在上下文中详细解释，但这里需要注意的是，它是一个2维数组或矩阵（请参阅下一节关于矩阵的内容）。\n",
    "- `w`将是形状为(n,)的一维向量。\n",
    "- 我们将在示例中循环执行操作，通过索引X提取每个示例单独处理。\n",
    "- `X[i]`返回形状(n,)的值，这是一个一维向量。因此，涉及`X[i]`的操作通常是向量-向量操作。 \n",
    "\n",
    "以上解释有点冗长，但在执行向量运算时，对齐和理解操作数的形状非常重要。"
   ]
  },
  {
   "cell_type": "code",
   "metadata": {
    "ExecuteTime": {
     "end_time": "2024-05-12T04:11:07.085174Z",
     "start_time": "2024-05-12T04:11:07.079675Z"
    }
   },
   "source": [
    "X = np.array([[1], [2], [3], [4]])\n",
    "w = np.array([2])\n",
    "c = np.dot(X[1], w)\n",
    "\n",
    "print(f\"X[1] has shape {X[1].shape}\")\n",
    "print(f\"w has shape {w.shape}\")\n",
    "print(f\"c has shape {c.shape}\")"
   ],
   "outputs": [
    {
     "name": "stdout",
     "output_type": "stream",
     "text": [
      "X[1] has shape (1,)\n",
      "w has shape (1,)\n",
      "c has shape ()\n"
     ]
    }
   ],
   "execution_count": 32
  },
  {
   "cell_type": "markdown",
   "metadata": {},
   "source": "# 4 矩阵"
  },
  {
   "cell_type": "markdown",
   "metadata": {},
   "source": [
    "## 4.1 摘要\n",
    "\n",
    "矩阵是二维数组。矩阵的元素类型相同。在符号中，矩阵用大写粗体字母表示，如$\\mathbf{X}$。在本实验和其他实验中，`m`通常表示行数，`n`表示列数。矩阵的元素可以用二维索引来引用。在数学环境中，索引中的数字通常从1到n。在计算机科学和这些实验室中，索引将从0到n-1。\n",
    "\n",
    "<figure>\n",
    "    <center>\n",
    "        <img src=\"../images/C1_W2_Lab04_Matrices.PNG\" alt='missing' width=900>\n",
    "    <center/>\n",
    "    <figcaption>\n",
    "        通用矩阵表示法，第一个索引是行，第二个索引是列\n",
    "    </figcaption>\n",
    "<figure/>"
   ]
  },
  {
   "cell_type": "markdown",
   "metadata": {},
   "source": [
    "## 4.2 NumPy数组\n",
    "\n",
    "NumPy的基本数据结构是一个可索引的n维*数组*，包含相同类型（`dtype`）的元素。这些已在前面描述过。矩阵具有二维（2-D）索引[m,n]。\n",
    "\n",
    "在课程1中，二维矩阵用于保存训练数据。训练数据是$m$个示例，由$n$个特征创建(m,n)数组。课程1不会直接对矩阵进行运算，而是通常提取一个示例作为向量并对其进行运算。下面您将回顾：\n",
    "\n",
    "- 数据创建\n",
    "- 切片和索引"
   ]
  },
  {
   "cell_type": "markdown",
   "metadata": {},
   "source": [
    "## 4.3 矩阵创建\n",
    "\n",
    "创建一维向量的相同函数将创建二维或n维数组。这里有些例子"
   ]
  },
  {
   "cell_type": "markdown",
   "metadata": {},
   "source": "下面提供了形状元组来实现二维结果。 请注意NumPy如何使用括号来表示每个维度。请注意，NumPy在打印时将每行打印一行。"
  },
  {
   "cell_type": "code",
   "metadata": {
    "ExecuteTime": {
     "end_time": "2024-05-12T04:17:41.861774Z",
     "start_time": "2024-05-12T04:17:41.845755Z"
    }
   },
   "source": [
    "a = np.zeros((1, 5))\n",
    "print(f\"a shape = {a.shape}, a = {a}\")\n",
    "a = np.zeros((2, 1))\n",
    "print(f\"a shape = {a.shape}, a = {a}\")\n",
    "a = np.random.random_sample((1, 1))\n",
    "print(f\"a shape = {a.shape}, a = {a}\")"
   ],
   "outputs": [
    {
     "name": "stdout",
     "output_type": "stream",
     "text": [
      "a shape = (1, 5), a = [[0. 0. 0. 0. 0.]]\n",
      "a shape = (2, 1), a = [[0.]\n",
      " [0.]]\n",
      "a shape = (1, 1), a = [[0.59096694]]\n"
     ]
    }
   ],
   "execution_count": 35
  },
  {
   "cell_type": "markdown",
   "metadata": {},
   "source": "也可以手动指定数据。尺寸用与上面印刷中的格式匹配的附加括号指定。"
  },
  {
   "cell_type": "code",
   "metadata": {
    "ExecuteTime": {
     "end_time": "2024-05-12T04:18:07.545389Z",
     "start_time": "2024-05-12T04:18:07.530883Z"
    }
   },
   "source": [
    "a = np.array([[5], [4], [3]])\n",
    "print(f\" a shape = {a.shape}, np.array: a = {a}\")\n",
    "a = np.array([[5],\n",
    "              [4],\n",
    "              [3]])\n",
    "print(f\" a shape = {a.shape}, np.array: a = {a}\")"
   ],
   "outputs": [
    {
     "name": "stdout",
     "output_type": "stream",
     "text": [
      " a shape = (3, 1), np.array: a = [[5]\n",
      " [4]\n",
      " [3]]\n",
      " a shape = (3, 1), np.array: a = [[5]\n",
      " [4]\n",
      " [3]]\n"
     ]
    }
   ],
   "execution_count": 36
  },
  {
   "cell_type": "markdown",
   "metadata": {},
   "source": [
    "## 4.4 矩阵运算\n",
    "\n",
    "让我们探索一些使用矩阵的运算。"
   ]
  },
  {
   "cell_type": "markdown",
   "metadata": {},
   "source": "### 4.4.1 索引"
  },
  {
   "cell_type": "markdown",
   "metadata": {},
   "source": "矩阵包括第二个索引。这两个索引描述的是[行, 列]。访问可以返回一个元素或行/列。见下文："
  },
  {
   "cell_type": "code",
   "metadata": {
    "ExecuteTime": {
     "end_time": "2024-05-12T04:19:36.039416Z",
     "start_time": "2024-05-12T04:19:36.031415Z"
    }
   },
   "source": [
    "a = np.arange(6).reshape(-1, 2)\n",
    "print(f\"a.shape: {a.shape}, \\na = {a}\")\n",
    "print(\n",
    "    f\"\\na[2,0].shape: {a[2, 0].shape}, a[2,0] = {a[2, 0]}, type(a[2,0]) = {type(a[2, 0])} Accessing an element returns a scalar\\n\")\n",
    "print(f\"a[2].shape: {a[2].shape}, a[2] = {a[2]}, type(a[2]) = {type(a[2])}\")"
   ],
   "outputs": [
    {
     "name": "stdout",
     "output_type": "stream",
     "text": [
      "a.shape: (3, 2), \n",
      "a = [[0 1]\n",
      " [2 3]\n",
      " [4 5]]\n",
      "\n",
      "a[2,0].shape: (), a[2,0] = 4, type(a[2,0]) = <class 'numpy.int32'> Accessing an element returns a scalar\n",
      "\n",
      "a[2].shape: (2,), a[2] = [4 5], type(a[2]) = <class 'numpy.ndarray'>\n"
     ]
    }
   ],
   "execution_count": 38
  },
  {
   "cell_type": "markdown",
   "metadata": {},
   "source": "值得注意的是最后一个例子。 仅通过指定行来访问矩阵将返回*一维向量*。"
  },
  {
   "cell_type": "markdown",
   "metadata": {},
   "source": [
    "**重塑**\n",
    "\n",
    "前面的示例使用[reshape](https://numpy.org/doc/stable/reference/ generated/numpy.reshape.html)来调整数组的形状。\n",
    "\n",
    "`a = np.arange(6).reshape(-1, 2) `\n",
    "\n",
    "这行代码首先创建了一个包含六个元素的*一维向量*。 然后，它使用reshape命令将该向量重塑为*2-D*数组。这可以写成：\n",
    "\n",
    "`a = np.arange(6).reshape(3, 2) `\n",
    "\n",
    "得到同样的3行2列数组。\n",
    "\n",
    "-1参数告诉例程在给定数组大小和列数的情况下计算行数。"
   ]
  },
  {
   "cell_type": "markdown",
   "metadata": {},
   "source": [
    "### 4.4.2 切片\n",
    "\n",
    "切片使用一组三个值（`start:stop:step`）创建一个索引数组。值的子集也是有效的。它的使用最好通过示例来解释："
   ]
  },
  {
   "cell_type": "code",
   "execution_count": null,
   "metadata": {},
   "outputs": [],
   "source": [
    "a = np.arange(20).reshape(-1, 10)\n",
    "print(f\"a = \\n{a}\")\n",
    "print(\"a[0, 2:7:1] = \", a[0, 2:7:1], \",  a[0, 2:7:1].shape =\", a[0, 2:7:1].shape, \"a 1-D array\")\n",
    "print(\"a[:, 2:7:1] = \\n\", a[:, 2:7:1], \",  a[:, 2:7:1].shape =\", a[:, 2:7:1].shape, \"a 2-D array\")\n",
    "print(\"a[:,:] = \\n\", a[:, :], \",  a[:,:].shape =\", a[:, :].shape)\n",
    "print(\"a[1,:] = \", a[1, :], \",  a[1,:].shape =\", a[1, :].shape, \"a 1-D array\")\n",
    "print(\"a[1]   = \", a[1], \",  a[1].shape   =\", a[1].shape, \"a 1-D array\")"
   ]
  },
  {
   "cell_type": "markdown",
   "metadata": {},
   "source": [
    "## 恭喜！\n",
    "\n",
    "在本实验中，您掌握了课程1所需的Python和NumPy功能。"
   ]
  }
 ],
 "metadata": {
  "dl_toc_settings": {
   "rndtag": "40015"
  },
  "kernelspec": {
   "display_name": "Python 3",
   "language": "python",
   "name": "python3"
  },
  "language_info": {
   "codemirror_mode": {
    "name": "ipython",
    "version": 3
   },
   "file_extension": ".py",
   "mimetype": "text/x-python",
   "name": "python",
   "nbconvert_exporter": "python",
   "pygments_lexer": "ipython3",
   "version": "3.9.10"
  },
  "toc-autonumbering": false
 },
 "nbformat": 4,
 "nbformat_minor": 4
}
